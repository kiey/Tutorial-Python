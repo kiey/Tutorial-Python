{
 "cells": [
  {
   "cell_type": "markdown",
   "metadata": {},
   "source": [
    "# Lectura y escritura de fichero"
   ]
  },
  {
   "cell_type": "markdown",
   "metadata": {},
   "source": [
    "Ya hemos visto como leer información usando el teclado y como mostrarlo por pantalla, pero en muchos casos esto no es suficiente. Cuando queremos leer una gran cantidad de datos, o queremos automitazar un proceso lo adecuado es leer y escribir los datos usando ficheros. \n",
    "\n",
    "Hay diferentes tipos de ficheros, el formato más simple es el formato de texto plano. Pero existen diferentes formatos para tareas especificas un ejemplo de ellos es el formato CSV (Comma Separated Values), es el formato tipicamente para trabajar con datos en forma de tabla (ej: excel)."
   ]
  },
  {
   "cell_type": "markdown",
   "metadata": {},
   "source": [
    "## Apertura y Cierre"
   ]
  },
  {
   "cell_type": "markdown",
   "metadata": {},
   "source": [
    "Al igual que pasa como cuando usamos un programa con interfaz gráfica los archivos deberán ser abiertos y cerrados. Esto servirá para que el sistema operativo tenga bajo control quien está usando el archivo y así impedir problemas como por ejemplo escrituras simultaneas.\n",
    "\n",
    "Para abrir un archivo en python usaremos el comando `miFichero = open(\"nombre_de_fichero.txt\")`, fijaos que la función que abre el fichero es `open` pero debemos guardar en una variable en este caso lo estamos haciendo en _miFichero_ para despues poder acceder a él."
   ]
  },
  {
   "cell_type": "code",
   "execution_count": 3,
   "metadata": {},
   "outputs": [],
   "source": [
    "ficheroAlumnos = open(\"alumnos.txt\")"
   ]
  },
  {
   "cell_type": "markdown",
   "metadata": {},
   "source": [
    "Para cerrarlo usaremos la función de fichero `close`. Recordad que las funciones siempre necesitan tener parentesis `()` al final, incluso cuando no tienen ningún parámetro."
   ]
  },
  {
   "cell_type": "code",
   "execution_count": 24,
   "metadata": {},
   "outputs": [],
   "source": [
    "ficheroAlumnos.close()"
   ]
  },
  {
   "cell_type": "markdown",
   "metadata": {},
   "source": [
    "Cuando abrimos un fichero podemos especificar que vamos a hacer con él. Para ello usaremos las opciones de la función `open`. Por ejemplo para abrirlo solo para leerlo usaremos `open(\"nombre_fichero.txt\", \"r\")`. __Atención__: la opción __w__ borrará el contenido del archivo existente!. Existen las siguientes opciones:\n",
    "\n",
    "Para más información podéis ejecutar `help(open)`."
   ]
  },
  {
   "cell_type": "markdown",
   "metadata": {},
   "source": [
    "    'r'       Leer (por defecto)\n",
    "    'w'       Escribir\n",
    "    'x'       Crear un nuevo fichero donde escribir\n",
    "    'a'       Escribir, pero añadiendo al final del archivo\n",
    "    'b'       Modo binario\n",
    "    't'       Modo texto (por defecto)\n",
    "    '+'       Leer y escribir"
   ]
  },
  {
   "cell_type": "markdown",
   "metadata": {},
   "source": [
    "Una vez abierto el fichero podemos leer una línea con la función `readline()` o todo el fichero con la función `read()`. Para ver las diferentes funciones pulsad la tecla TAB justo despues de escribir un punto en una variable y os dirá que funciónes puede usar esa variable."
   ]
  },
  {
   "cell_type": "code",
   "execution_count": null,
   "metadata": {},
   "outputs": [],
   "source": [
    "ficheroAlumnos"
   ]
  },
  {
   "cell_type": "code",
   "execution_count": 31,
   "metadata": {},
   "outputs": [
    {
     "name": "stdout",
     "output_type": "stream",
     "text": [
      "Pulsa cualquier tecla para leer la primera linea\n",
      "Luke\n",
      "\n",
      "Pulsa cualquier tecla para leer la siguiente linea\n",
      "ObiWan\n",
      "\n",
      "Pulsa cualquier tecla para leer la siguiente linea\n",
      "Anakin\n",
      "\n",
      "Pulsa cualquier tecla para leer la siguiente linea\n",
      "Yoda\n",
      "\n",
      "Pulsa cualquier tecla para leer la siguiente linea\n",
      "Han Solo\n",
      "\n",
      "Pulsa cualquier tecla para leer la siguiente linea\n",
      "Chewbacca\n",
      "\n",
      "Pulsa cualquier tecla para leer la siguiente linea\n",
      "Leia\n",
      "\n",
      "Pulsa cualquier tecla para leer la siguiente linea\n",
      "R2D2\n",
      "\n",
      "Pulsa cualquier tecla para leer la siguiente linea\n",
      "C3PO\n",
      "Pulsa cualquier tecla para leer la siguiente linea\n",
      "\n",
      "Pulsa cualquier tecla para leer la siguiente linea\n",
      "CERRANDO ARCHIVO\n"
     ]
    }
   ],
   "source": [
    "ficheroAlumnos = open(\"alumnos.txt\", \"r\")\n",
    "input(\"Pulsa cualquier tecla para leer la primera linea\")\n",
    "linea = \"primera linea\"\n",
    "while(linea!=\"\"):\n",
    "    linea = ficheroAlumnos.readline()\n",
    "    print(linea)\n",
    "    input(\"Pulsa cualquier tecla para leer la siguiente linea\")\n",
    "\n",
    "print(\"CERRANDO ARCHIVO\")\n",
    "ficheroAlumnos.close()"
   ]
  },
  {
   "cell_type": "markdown",
   "metadata": {},
   "source": [
    "### Tu Turno"
   ]
  },
  {
   "cell_type": "markdown",
   "metadata": {},
   "source": [
    "Lee el fichero alumnos línea a línea, y solo muetra por pantalla las líneas, los alumnos, que no contengan la letra *a*"
   ]
  },
  {
   "cell_type": "code",
   "execution_count": null,
   "metadata": {},
   "outputs": [],
   "source": []
  },
  {
   "cell_type": "markdown",
   "metadata": {},
   "source": [
    "## Leer CSV"
   ]
  },
  {
   "cell_type": "markdown",
   "metadata": {},
   "source": [
    "Otro formato que nos encontraremos muy amenudo es el formato CSV (Coma Separeted Values) en español (Valores Separados por Comas). Este es el formato típicamente usado para guardar tablas de datos.\n",
    "\n",
    "En el siguiente ejemplo vamos a leer el archivo alumnos_notas.csv que contiene tres columnas, nombre de los alumnos, nota del examen teórico y nota del examen práctico. Para ello usaremos la librería `pandas` que ya tiene funciones destinadas a trabajar con el formato csv."
   ]
  },
  {
   "cell_type": "markdown",
   "metadata": {},
   "source": [
    "Primero importamos la librería pandas. Para importar un librería se usa el comando `import`, para llamar a sus funciones lo haremos con `pandas.` y el nombre de la función"
   ]
  },
  {
   "cell_type": "code",
   "execution_count": 65,
   "metadata": {},
   "outputs": [],
   "source": [
    "import pandas"
   ]
  },
  {
   "cell_type": "code",
   "execution_count": 66,
   "metadata": {},
   "outputs": [
    {
     "name": "stdout",
     "output_type": "stream",
     "text": [
      "     Alumnos  Notas_test  Notas_practica\n",
      "0       Luke           7               8\n",
      "1     ObiWan           8               6\n",
      "2     Anakin           5               4\n",
      "3       Yoda           9              10\n",
      "4   Han Solo           4               6\n",
      "5  Chewbacca           3               5\n",
      "6       Leia           6               4\n",
      "7       R2D2           3               5\n",
      "8       C3PO           2               7\n"
     ]
    }
   ],
   "source": [
    "alumnos_notas = pandas.read_csv(\"alumnos_notas.csv\", sep=';') #sep marca que separacion es usada en el fichero\n",
    "print(alumnos_notas)"
   ]
  },
  {
   "cell_type": "markdown",
   "metadata": {},
   "source": [
    "Si queremos iterar por cada filar lo haremos de la siguiente forma, usando un `for` sobre la función `iterrows()` que nos devolvera el indice y la fila de todas las filas.\n",
    "\n",
    "**Nota**: en este ejemplo el nombre esta limitado a 10 caracteres para que el print quede alineado, esto se consigue con `{:10}`"
   ]
  },
  {
   "cell_type": "code",
   "execution_count": 73,
   "metadata": {},
   "outputs": [
    {
     "name": "stdout",
     "output_type": "stream",
     "text": [
      "Nombre alumno: Luke       Nota_test: 7 Nota_Practica: 7 \n",
      "Nombre alumno: ObiWan     Nota_test: 8 Nota_Practica: 8 \n",
      "Nombre alumno: Anakin     Nota_test: 5 Nota_Practica: 5 \n",
      "Nombre alumno: Yoda       Nota_test: 9 Nota_Practica: 9 \n",
      "Nombre alumno: Han Solo   Nota_test: 4 Nota_Practica: 4 \n",
      "Nombre alumno: Chewbacca  Nota_test: 3 Nota_Practica: 3 \n",
      "Nombre alumno: Leia       Nota_test: 6 Nota_Practica: 6 \n",
      "Nombre alumno: R2D2       Nota_test: 3 Nota_Practica: 3 \n",
      "Nombre alumno: C3PO       Nota_test: 2 Nota_Practica: 2 \n"
     ]
    }
   ],
   "source": [
    "for indice, fila in alumnos_notas.iterrows():\n",
    "    print(\"Nombre alumno: {:10} Nota_test: {} Nota_Practica: {} \".format(fila['Alumnos'],fila['Notas_test'],fila['Notas_test']))"
   ]
  },
  {
   "cell_type": "markdown",
   "metadata": {},
   "source": [
    "Ahora vamos a calcular la media del examen tipo test"
   ]
  },
  {
   "cell_type": "code",
   "execution_count": 78,
   "metadata": {},
   "outputs": [
    {
     "name": "stdout",
     "output_type": "stream",
     "text": [
      "5.222222222222222\n"
     ]
    }
   ],
   "source": [
    "def calcular_media(alumnos_notas):\n",
    "    suma     = 0\n",
    "    contador = 0\n",
    "    for indice, fila in alumnos_notas.iterrows():\n",
    "        suma = suma + fila['Notas_test']\n",
    "        contador = contador + 1\n",
    "    return suma/contador\n",
    "\n",
    "print(calcular_media(alumnos_notas))"
   ]
  },
  {
   "cell_type": "markdown",
   "metadata": {},
   "source": [
    "### Tu turno"
   ]
  },
  {
   "cell_type": "markdown",
   "metadata": {},
   "source": [
    "Calcula la media de las notas del examen práctico"
   ]
  },
  {
   "cell_type": "code",
   "execution_count": null,
   "metadata": {},
   "outputs": [],
   "source": []
  },
  {
   "cell_type": "markdown",
   "metadata": {},
   "source": [
    "Calcula la media total de los examenes si el test cuenta 0.3 y el práctico 0.7"
   ]
  },
  {
   "cell_type": "code",
   "execution_count": null,
   "metadata": {},
   "outputs": [],
   "source": []
  },
  {
   "cell_type": "markdown",
   "metadata": {},
   "source": [
    "Enseña por pantalla los alumnos que han suspendio almenos uno de los dos examenes"
   ]
  },
  {
   "cell_type": "code",
   "execution_count": null,
   "metadata": {},
   "outputs": [],
   "source": []
  },
  {
   "cell_type": "markdown",
   "metadata": {},
   "source": [
    "Extra: guarda los alumnos que han suspendido almenos alguno de los dos examenes en un nuevo fichero __suspendidos.txt__, usando la función de fichero python `write`"
   ]
  },
  {
   "cell_type": "code",
   "execution_count": null,
   "metadata": {},
   "outputs": [],
   "source": []
  },
  {
   "cell_type": "markdown",
   "metadata": {},
   "source": [
    "Extra: Guarda la información anterior en un nuevo fichero __suspendidos.csv__ usando para ello la librería pandas. Busca como usando internet."
   ]
  },
  {
   "cell_type": "code",
   "execution_count": null,
   "metadata": {},
   "outputs": [],
   "source": []
  }
 ],
 "metadata": {
  "kernelspec": {
   "display_name": "Python 3",
   "language": "python",
   "name": "python3"
  },
  "language_info": {
   "codemirror_mode": {
    "name": "ipython",
    "version": 3
   },
   "file_extension": ".py",
   "mimetype": "text/x-python",
   "name": "python",
   "nbconvert_exporter": "python",
   "pygments_lexer": "ipython3",
   "version": "3.7.4"
  }
 },
 "nbformat": 4,
 "nbformat_minor": 2
}
