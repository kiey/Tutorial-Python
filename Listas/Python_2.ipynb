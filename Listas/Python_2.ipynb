{
 "cells": [
  {
   "cell_type": "markdown",
   "metadata": {},
   "source": [
    "# Estructuras de datos"
   ]
  },
  {
   "cell_type": "markdown",
   "metadata": {},
   "source": [
    "En programación es habitual querer agrupar variables. Para ello existen diferentes estructuras ya definidas por python que nos ayudaran a agruparlas."
   ]
  },
  {
   "cell_type": "markdown",
   "metadata": {},
   "source": [
    "## Listas"
   ]
  },
  {
   "cell_type": "markdown",
   "metadata": {},
   "source": [
    "Una lista en python es simplemente una lista de cosas, ya sean números, letras, textos, booleanos... En python definir, crear, una lista usaremos los simbolos `[]`, dentro separaremos con comas `,` los elementos que la conforman. Por ejemplo podemos definir una lista de numeros primos del 1 al 100 de esta forma."
   ]
  },
  {
   "cell_type": "code",
   "execution_count": 1,
   "metadata": {},
   "outputs": [
    {
     "name": "stdout",
     "output_type": "stream",
     "text": [
      "[2, 3, 5, 7, 11, 13, 17, 19, 23, 29, 31, 37, 41, 43, 47, 53, 59, 61, 67, 71, 73, 79, 83, 89, 97]\n"
     ]
    }
   ],
   "source": [
    "primos = [2, 3, 5, 7, 11, 13, 17, 19, 23, 29, 31, 37, 41, 43, 47, 53, 59, 61, 67, 71, 73, 79, 83, 89, 97]\n",
    "print(primos)"
   ]
  },
  {
   "cell_type": "markdown",
   "metadata": {},
   "source": [
    "Por ejemplo también podríamos hacerlo con texto"
   ]
  },
  {
   "cell_type": "code",
   "execution_count": 2,
   "metadata": {},
   "outputs": [
    {
     "name": "stdout",
     "output_type": "stream",
     "text": [
      "['avellanas', 'nueces', 'anacardos', 'almendras']\n"
     ]
    }
   ],
   "source": [
    "frutosSecos = [\"avellanas\", \"nueces\", \"anacardos\", \"almendras\"]\n",
    "print(frutosSecos)"
   ]
  },
  {
   "cell_type": "markdown",
   "metadata": {},
   "source": [
    "Para acceder a un elemento de una lista introduciremos su posición. Por ejemplo `primos[5]` nos devolvera el sexto primo. De la misma manera que `frutosSecos[3]` nos devolvera el cuarto primo. __Atencion__ en python, como en muchos lenguajes de programación, __el primer elemento de una lista es el 0 no el 1__. Por lo que si queremos acceder a _avellanas_ deberemos escribir `frutosSecos[0]`"
   ]
  },
  {
   "cell_type": "code",
   "execution_count": 3,
   "metadata": {},
   "outputs": [
    {
     "name": "stdout",
     "output_type": "stream",
     "text": [
      "13\n",
      "almendras\n",
      "avellanas\n"
     ]
    }
   ],
   "source": [
    "print(primos[5])\n",
    "print(frutosSecos[3])\n",
    "print(frutosSecos[0])"
   ]
  },
  {
   "cell_type": "markdown",
   "metadata": {},
   "source": [
    "Podemos iterar, recorrer, pasar por todos los elementos, de una lista haciendo uso de los bucles. Una forma fácil en python es usar la instrucción `for`. "
   ]
  },
  {
   "cell_type": "code",
   "execution_count": 16,
   "metadata": {},
   "outputs": [
    {
     "name": "stdout",
     "output_type": "stream",
     "text": [
      "avellanas\n",
      "nueces\n",
      "anacardos\n",
      "almendras\n"
     ]
    }
   ],
   "source": [
    "#La siguiente línea la leeremos como, por cada fruto seco dentro de la lista frutos secos haz lo siguiente.\n",
    "for frutoSeco in frutosSecos:\n",
    "    print(frutoSeco)"
   ]
  },
  {
   "cell_type": "markdown",
   "metadata": {},
   "source": [
    "### Tu turno"
   ]
  },
  {
   "cell_type": "markdown",
   "metadata": {},
   "source": [
    "Haz una función que sume todos los elementos de la lista primos."
   ]
  },
  {
   "cell_type": "code",
   "execution_count": null,
   "metadata": {},
   "outputs": [],
   "source": []
  },
  {
   "cell_type": "markdown",
   "metadata": {},
   "source": [
    "Haz una funciñon que recorra los elementos de la lista frutos secos y que imprima todos los frutos secos que contengan la letra _e_."
   ]
  },
  {
   "cell_type": "code",
   "execution_count": null,
   "metadata": {},
   "outputs": [],
   "source": []
  },
  {
   "cell_type": "markdown",
   "metadata": {},
   "source": [
    "## Modificar una lista"
   ]
  },
  {
   "cell_type": "markdown",
   "metadata": {},
   "source": [
    "Si queremos modificar un valor de una lista lo que haremos es `lista[indice] = nuevoValor`. Por ejemplo para cambien el primer fruto seco por _pistachos_ haremos lo siguiente."
   ]
  },
  {
   "cell_type": "code",
   "execution_count": 20,
   "metadata": {},
   "outputs": [
    {
     "name": "stdout",
     "output_type": "stream",
     "text": [
      "['pistachos', 'nueces', 'anacardos', 'almendras']\n"
     ]
    }
   ],
   "source": [
    "frutosSecos[0]=\"pistachos\"\n",
    "print(frutosSecos)"
   ]
  },
  {
   "cell_type": "markdown",
   "metadata": {},
   "source": [
    "Tambien podemos añadir y borrar elementos de una lista. Para añadir usaremos la función `myLista.append(nuevoElemento)`, esto añadira al final de la lista el elemento agregado. Para borrar un elemento usaremos la función `pop` y la función `remove`. La función pop borra un elemento dado el índice, la posición, donde se encuentra `myLista.pop(indice)`. Por otro lado remove, borra el elemento que le digamos `myLista.remove(elemento)`."
   ]
  },
  {
   "cell_type": "code",
   "execution_count": 22,
   "metadata": {},
   "outputs": [
    {
     "name": "stdout",
     "output_type": "stream",
     "text": [
      "[2, 5, 7, 11, 13, 17, 19, 23, 29, 31, 37, 41, 43, 47, 53, 59, 61, 67, 71, 73, 79, 83, 89, 97]\n",
      "[2, 7, 11, 13, 17, 19, 23, 29, 31, 37, 41, 43, 47, 53, 59, 61, 67, 71, 73, 79, 83, 89, 97]\n"
     ]
    }
   ],
   "source": [
    "primos = [2, 3, 5, 7, 11, 13, 17, 19, 23, 29, 31, 37, 41, 43, 47, 53, 59, 61, 67, 71, 73, 79, 83, 89, 97]\n",
    "print(primos)\n",
    "primos.pop(1)\n",
    "print(primos)"
   ]
  },
  {
   "cell_type": "markdown",
   "metadata": {},
   "source": [
    "Fijaos que se ha borrado el número que 3, que estaba en la posición 1. _Recordad_ que la primera posición es la 0."
   ]
  },
  {
   "cell_type": "code",
   "execution_count": 26,
   "metadata": {},
   "outputs": [
    {
     "name": "stdout",
     "output_type": "stream",
     "text": [
      "[2, 3, 5, 7, 11, 13, 17, 19, 23, 29, 31, 37, 41, 43, 47, 53, 59, 61, 67, 71, 73, 79, 83, 89, 97]\n",
      "[2, 3, 7, 11, 13, 17, 19, 23, 29, 31, 37, 41, 43, 47, 53, 59, 61, 67, 71, 73, 79, 83, 89, 97]\n"
     ]
    }
   ],
   "source": [
    "primos = [2, 3, 5, 7, 11, 13, 17, 19, 23, 29, 31, 37, 41, 43, 47, 53, 59, 61, 67, 71, 73, 79, 83, 89, 97]\n",
    "print(primos)\n",
    "primos.remove(5)\n",
    "print(primos)"
   ]
  },
  {
   "cell_type": "markdown",
   "metadata": {},
   "source": [
    "En este caso hemos borrado el numero 5"
   ]
  },
  {
   "cell_type": "code",
   "execution_count": 24,
   "metadata": {},
   "outputs": [
    {
     "name": "stdout",
     "output_type": "stream",
     "text": [
      "['avellanas', 'nueces', 'anacardos', 'almendras']\n",
      "['avellanas', 'nueces', 'anacardos', 'almendras', 'macadamias']\n"
     ]
    }
   ],
   "source": [
    "frutosSecos = [\"avellanas\", \"nueces\", \"anacardos\", \"almendras\"]\n",
    "print(frutosSecos)\n",
    "frutosSecos.append(\"macadamias\")\n",
    "print(frutosSecos)"
   ]
  },
  {
   "cell_type": "markdown",
   "metadata": {},
   "source": [
    "Hemos añadido macadamias al final de la lista de frutos secos"
   ]
  },
  {
   "cell_type": "markdown",
   "metadata": {},
   "source": [
    "### Tu turno"
   ]
  },
  {
   "cell_type": "code",
   "execution_count": 37,
   "metadata": {},
   "outputs": [],
   "source": [
    "numeros = [5, 85, 25, 44, 101, 54, 3, 16, 99]"
   ]
  },
  {
   "cell_type": "markdown",
   "metadata": {},
   "source": [
    "Imprime la media de la suma de todos los elementos de la lista `numero`"
   ]
  },
  {
   "cell_type": "code",
   "execution_count": null,
   "metadata": {},
   "outputs": [],
   "source": []
  },
  {
   "cell_type": "markdown",
   "metadata": {},
   "source": [
    "Calcula la media de la lista numeros.\n",
    "\n",
    "__nota__: Para conseguir el numero de elementos, el tamaño, de una lista podemos usar la funcion `len(miLista)`"
   ]
  },
  {
   "cell_type": "code",
   "execution_count": null,
   "metadata": {},
   "outputs": [],
   "source": []
  },
  {
   "cell_type": "markdown",
   "metadata": {},
   "source": [
    "Crea una función que _retorne_ el numero maximo de una lista, pruebala con la lista numeros"
   ]
  },
  {
   "cell_type": "code",
   "execution_count": null,
   "metadata": {},
   "outputs": [],
   "source": []
  },
  {
   "cell_type": "markdown",
   "metadata": {},
   "source": [
    "Dada la lista de numeros `numeros`, crea una nueva lista vacia y añade los números pares de la lista `numeros`."
   ]
  },
  {
   "cell_type": "code",
   "execution_count": null,
   "metadata": {},
   "outputs": [],
   "source": []
  },
  {
   "cell_type": "markdown",
   "metadata": {},
   "source": [
    "Crea una funcion que diga cuales de los elementos de una lista son primos. Para ello usa a la función `esPrimo`, que creaste en el anterior notebook (debereas copiarla, o rehacerla)."
   ]
  },
  {
   "cell_type": "code",
   "execution_count": null,
   "metadata": {},
   "outputs": [],
   "source": []
  },
  {
   "cell_type": "markdown",
   "metadata": {},
   "source": [
    "Crea una función que dada una lista de textos y un número, imprima las palabras con un número de letras mayor o igual al número. Usa la lista `hobbit` para testearla."
   ]
  },
  {
   "cell_type": "code",
   "execution_count": 40,
   "metadata": {},
   "outputs": [
    {
     "name": "stdout",
     "output_type": "stream",
     "text": [
      "['En', 'un', 'agujero', 'en', 'el', 'suelo', 'vivía', 'un', 'hobbit.', 'No', 'un', 'agujero', 'húmedo', 'sucio', 'repugnante', 'con', 'restos', 'de', 'gusanos', 'y', 'olor', 'a', 'fango', 'ni', 'tampoco', 'un', 'agujero', 'seco', 'desnudo', 'y', 'arenoso', 'sin', 'nada', 'en', 'que', 'sentarse', 'o', 'que', 'comer:', 'era', 'un', 'agujero-hobbit', 'y', 'eso', 'significa', 'comodidad']\n"
     ]
    }
   ],
   "source": [
    "texto = \"En un agujero en el suelo, vivía un hobbit. No un agujero húmedo, sucio, repugnante,\\\n",
    "con restos de gusanos y olor a fango, ni tampoco un agujero, seco, desnudo y arenoso, \\\n",
    "sin nada en que sentarse o que comer: era un agujero-hobbit, y eso significa comodidad\"\n",
    "hobbit = texto.replace(',',' ').split()\n",
    "print(hobbit)"
   ]
  },
  {
   "cell_type": "markdown",
   "metadata": {},
   "source": [
    "Crea una función que dada una lista de palabras devuelva una lista con las palabras que contengan la letra _e_"
   ]
  },
  {
   "cell_type": "code",
   "execution_count": null,
   "metadata": {},
   "outputs": [],
   "source": []
  },
  {
   "cell_type": "markdown",
   "metadata": {},
   "source": [
    "Crea una función que dada una lista de números, por ejemplo \"numeros\", te devuelva la lista ordenada"
   ]
  },
  {
   "cell_type": "code",
   "execution_count": null,
   "metadata": {},
   "outputs": [],
   "source": []
  }
 ],
 "metadata": {
  "kernelspec": {
   "display_name": "Python 3",
   "language": "python",
   "name": "python3"
  },
  "language_info": {
   "codemirror_mode": {
    "name": "ipython",
    "version": 3
   },
   "file_extension": ".py",
   "mimetype": "text/x-python",
   "name": "python",
   "nbconvert_exporter": "python",
   "pygments_lexer": "ipython3",
   "version": "3.7.4"
  }
 },
 "nbformat": 4,
 "nbformat_minor": 2
}
