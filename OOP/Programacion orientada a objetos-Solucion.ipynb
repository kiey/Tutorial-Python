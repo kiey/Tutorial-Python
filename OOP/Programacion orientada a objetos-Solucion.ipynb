{
 "cells": [
  {
   "cell_type": "markdown",
   "metadata": {},
   "source": [
    "# Orientación de objetos"
   ]
  },
  {
   "cell_type": "markdown",
   "metadata": {},
   "source": [
    "La orientación a objetos es un paradigma de programación dónde los la unidad básica es el objeto. Un objecto o clase se define como cualquier cosa que queramos representar en el ordenador que tengo funciones especificas.\n",
    "Es una forma muy útil para programar y las mús utilizada.\n",
    "El código orientado a objetos nos aporta:\n",
    "* __Modularidad__\n",
    "* __Reutilización de código__\n",
    "* __Mejor manejo de errores de programación__\n",
    "* __Facilidad de cambiar el código__"
   ]
  },
  {
   "cell_type": "markdown",
   "metadata": {},
   "source": [
    "En el siguiente ejemplo queremos programar el comportamiento de diferentes razas de perro, como pueden ser __pastor aleman__ y __golden retriever__.\n",
    "Para ello vamos a programar que las dos puedan __correr__ y que los perros posean un __nombre__ y __edad__. Que el pastor aleman pueda __olisquear__ objetos sospechosos. Y que el golden retriever pueda __jugar__.\n",
    "\n"
   ]
  },
  {
   "cell_type": "markdown",
   "metadata": {},
   "source": [
    "## Sin orientación a objetos"
   ]
  },
  {
   "cell_type": "markdown",
   "metadata": {},
   "source": [
    "Si lo hacemos sin usar orientacion a objetos deberiamoscreariamos guardar en una tupla la informacion, nombre, edad y raza. De esta forma perro = (\"perro\", \"raza\", \"nombre\", \"edad\"), por ejemplo:"
   ]
  },
  {
   "cell_type": "code",
   "execution_count": 1,
   "metadata": {},
   "outputs": [
    {
     "name": "stdout",
     "output_type": "stream",
     "text": [
      "('Perro', 'GoldenRetriever', 'Max', 6)\n",
      "('Perro', 'PastorAleman', 'Rex', 3)\n"
     ]
    }
   ],
   "source": [
    "perro1 = (\"Perro\",\"GoldenRetriever\", \"Max\", 6)\n",
    "print(perro1)\n",
    "perro2 = (\"Perro\",\"PastorAleman\", \"Rex\", 3)\n",
    "print(perro2)\n"
   ]
  },
  {
   "cell_type": "markdown",
   "metadata": {},
   "source": [
    "Y cuando quisieramos hacer la funcion correr deberiamos comprovar que en efecto es un perro. Lo mismo pasaría con olisquear y con jugar deberíamos comprobar que es un pastor aleman y un golden retriever respectivamente"
   ]
  },
  {
   "cell_type": "code",
   "execution_count": 2,
   "metadata": {},
   "outputs": [],
   "source": [
    "def correr(animal):\n",
    "    if(animal[0] == \"Perro\"):\n",
    "        print(\"{} empieza a correr\".format(animal[2]))\n",
    "    else:\n",
    "        print(\"Este animal no puede correr\")\n",
    "\n",
    "def jugar(animal):\n",
    "    if(animal[0] == \"Perro\"):\n",
    "        if(animal[1] == \"GoldenRetriever\"):\n",
    "            print(\"{} quiere que le lances un palo\".format(animal[2]))\n",
    "        else:\n",
    "            print(\"Este animal no puede jugar\")\n",
    "    else:\n",
    "        print(\"Este animal no puede jugar\")\n",
    "\n",
    "def olisquear(animal):\n",
    "    if(animal[0] == \"Perro\"):\n",
    "        if(animal[1] == \"PastorAleman\"):\n",
    "            print(\"{} olisquea\".format(animal[2]))\n",
    "        else:\n",
    "            print(\"Este animal no puede olisquear\")\n",
    "    else:\n",
    "        print(\"Este animal no puede olisquear\")"
   ]
  },
  {
   "cell_type": "code",
   "execution_count": 3,
   "metadata": {},
   "outputs": [
    {
     "name": "stdout",
     "output_type": "stream",
     "text": [
      "Max empieza a correr\n",
      "Max quiere que le lances un palo\n",
      "Este animal no puede olisquear\n"
     ]
    }
   ],
   "source": [
    "correr(perro1)\n",
    "jugar(perro1)\n",
    "olisquear(perro1)"
   ]
  },
  {
   "cell_type": "code",
   "execution_count": 4,
   "metadata": {},
   "outputs": [
    {
     "name": "stdout",
     "output_type": "stream",
     "text": [
      "Rex empieza a correr\n",
      "Este animal no puede jugar\n",
      "Rex olisquea\n"
     ]
    }
   ],
   "source": [
    "correr(perro2)\n",
    "jugar(perro2)\n",
    "olisquear(perro2)"
   ]
  },
  {
   "cell_type": "markdown",
   "metadata": {},
   "source": [
    "El problema de programar de esta forma es que cada vez que creas una función tienes que controlar que animal la puede usar y que comportamiento tiene para cada raza.\n",
    "\n",
    "Esto para programas reales se transforma en un problema real ya que el numero de comprobaciones es mucho mayor.\n",
    "\n",
    "Ademas, usando esta forma cuando se quiera añadir, borrar o modificar una raza de perro deberas comprobar a mano todas las funciones del codigo, cambiandolas acorde con lo que quieras hacer, añadir, borrar o modificar.\n",
    "\n",
    "Por ultimo, usando este enfoque de programación, es muy posible crear problemas en razas de perro que estaban funcionando. Al añadir una nueva raza debemos modificar el codigo de las funciones de las otras razas que ya funcionaban correctamente.\n"
   ]
  },
  {
   "cell_type": "markdown",
   "metadata": {},
   "source": [
    "## Con orientación a objetos"
   ]
  },
  {
   "cell_type": "markdown",
   "metadata": {},
   "source": [
    "La orientazion a objetos es una forma de ordenar el código de forma que sea más fácil de trabajar con el. Aunque pueda parecer más trabajo al empezar hace que el código sea más escalable a la larga."
   ]
  },
  {
   "cell_type": "markdown",
   "metadata": {},
   "source": [
    "En el código siguiente creamos la clase perro. Y le añadimos las funciones que todos los perros comparten. En nuestro caso correr, ladrar, y una descripción del perro."
   ]
  },
  {
   "cell_type": "code",
   "execution_count": 34,
   "metadata": {},
   "outputs": [],
   "source": [
    "# Clase padre\n",
    "import random\n",
    "class Perro:\n",
    "\n",
    "    # Atributo de la clase\n",
    "    especie   = 'mamifero'\n",
    "\n",
    "    # Funcion creadora\n",
    "    def __init__(self, nombre, edad):\n",
    "        self.nombre    = nombre\n",
    "        self.edad      = edad\n",
    "        self.velocidad = 20\n",
    "    # Funcion que devuelve la descripcion del perro\n",
    "    def descripcion(self):\n",
    "        return \"{} tiene {} años\".format(self.nombre, self.edad)\n",
    "    # Funcion que hace ladrar al perro\n",
    "    def ladrar(self):\n",
    "        return \"{} dice: guau guau!\".format(self.nombre)\n",
    "    def comer(self):\n",
    "        return \"{} empieza a comer\".format(self.nombre)\n",
    "\n",
    "    #QUITAR\n",
    "    def correr(self):\n",
    "        return \"{} corre a {} km/h\".format(self.nombre, self.velocidad)\n",
    "\n",
    "    def cumplirAnos(self):\n",
    "        self.edad = self.edad + 1"
   ]
  },
  {
   "cell_type": "code",
   "execution_count": 35,
   "metadata": {},
   "outputs": [
    {
     "name": "stdout",
     "output_type": "stream",
     "text": [
      "Ryan tiene 2 años\n"
     ]
    }
   ],
   "source": [
    "perro1 = Perro(\"Ryan\", 2)\n",
    "print(perro1.descripcion())"
   ]
  },
  {
   "cell_type": "code",
   "execution_count": 36,
   "metadata": {},
   "outputs": [
    {
     "name": "stdout",
     "output_type": "stream",
     "text": [
      "Ryan dice: guau guau!\n"
     ]
    }
   ],
   "source": [
    "print(perro1.ladrar())"
   ]
  },
  {
   "cell_type": "code",
   "execution_count": 37,
   "metadata": {},
   "outputs": [
    {
     "name": "stdout",
     "output_type": "stream",
     "text": [
      "Ryan empieza a comer\n"
     ]
    }
   ],
   "source": [
    "print(perro1.comer())"
   ]
  },
  {
   "cell_type": "markdown",
   "metadata": {},
   "source": [
    "### __EJERCICIO__"
   ]
  },
  {
   "cell_type": "markdown",
   "metadata": {},
   "source": [
    "Añade la función _correr_. La función correr debe mostrar por pantalla el \"_el\\_nombre\\_del\\_perro_ corre a _velocidad\\_del\\_perro_ \""
   ]
  },
  {
   "cell_type": "code",
   "execution_count": 8,
   "metadata": {},
   "outputs": [],
   "source": [
    "#def correr(self):\n",
    "#        return \"{} corre a {} km/h\".format(self.nombre, self.velocidad)"
   ]
  },
  {
   "cell_type": "markdown",
   "metadata": {},
   "source": [
    "### __EJERCICIO__"
   ]
  },
  {
   "cell_type": "markdown",
   "metadata": {},
   "source": [
    "Añade la función cumplir años. Esta función tiene que incrementar un año la _edad_ al perro. "
   ]
  },
  {
   "cell_type": "code",
   "execution_count": 9,
   "metadata": {},
   "outputs": [],
   "source": [
    "#Añadir a la definicion de perro\n",
    "#def cumplirAños():\n",
    "#    self.edad = self.edad + 1"
   ]
  },
  {
   "cell_type": "markdown",
   "metadata": {},
   "source": [
    "## Añadir la raza pastor aleman"
   ]
  },
  {
   "cell_type": "markdown",
   "metadata": {},
   "source": [
    "Ahora vamos a crear la raza pastor aleman. Haremos que los pastores alemanes puedan olfatear objetos y decidir si son sospechosos."
   ]
  },
  {
   "cell_type": "code",
   "execution_count": 10,
   "metadata": {},
   "outputs": [],
   "source": [
    "# Child class (inherits from Perro class)\n",
    "class PastorAleman(Perro):\n",
    "    def olfatearObjeto(self, objetoSospechoso):\n",
    "        # Decidir si encuentra algo sospechoso, de forma aleatoria\n",
    "        detectarOlor = bool(random.choice([True, False]))\n",
    "        if (detectarOlor):\n",
    "            return \"{} ha olido algo sospechoso en {}\".format(self.nombre, objetoSospechoso)\n",
    "        else:\n",
    "            return \"{} no hace nada\".format(self.nombre)"
   ]
  },
  {
   "cell_type": "markdown",
   "metadata": {},
   "source": [
    "Creamos un pastor aleman llamado \"Rex\" y comprobamos si olfatear funciona"
   ]
  },
  {
   "cell_type": "code",
   "execution_count": 11,
   "metadata": {},
   "outputs": [
    {
     "name": "stdout",
     "output_type": "stream",
     "text": [
      "Rex dice: guau guau!\n"
     ]
    }
   ],
   "source": [
    "perroPolicia = PastorAleman(\"Rex\", 2)\n",
    "print(perroPolicia.ladrar())"
   ]
  },
  {
   "cell_type": "code",
   "execution_count": 12,
   "metadata": {},
   "outputs": [
    {
     "name": "stdout",
     "output_type": "stream",
     "text": [
      "Rex no hace nada\n",
      "Rex no hace nada\n"
     ]
    }
   ],
   "source": [
    "objeto1=\"maleta\"\n",
    "objeto2=\"pantalones\"\n",
    "print(perroPolicia.olfatearObjeto(objeto1))\n",
    "print(perroPolicia.olfatearObjeto(objeto2))"
   ]
  },
  {
   "cell_type": "markdown",
   "metadata": {},
   "source": [
    "### __EJERCICIO__"
   ]
  },
  {
   "cell_type": "markdown",
   "metadata": {},
   "source": [
    "Crear la raza Golden Retriever, y haz que tenga la función jugar. La función jugar tiene que mostrar el nombre del perro y decir \"empieza a jugar\"."
   ]
  },
  {
   "cell_type": "code",
   "execution_count": 13,
   "metadata": {},
   "outputs": [],
   "source": [
    "# Child class (inherits from Perro class)\n",
    "class GoldenRetriever(Perro):\n",
    "    def jugar(self):\n",
    "        return \"{} empieza jugar\".format(self.nombre)"
   ]
  },
  {
   "cell_type": "markdown",
   "metadata": {},
   "source": [
    "### __EJERCICIO__"
   ]
  },
  {
   "cell_type": "markdown",
   "metadata": {},
   "source": [
    "Prueba que un golden retriever no puede olfatear objetos, pero si jugar. Y que un pastor aleman si que puede olfatear pero no jugar."
   ]
  },
  {
   "cell_type": "markdown",
   "metadata": {},
   "source": [
    "### __EJERCICIO__"
   ]
  },
  {
   "cell_type": "raw",
   "metadata": {},
   "source": [
    "Crea la raza galgo. Hacer que los galgos corran a 72km/h."
   ]
  },
  {
   "cell_type": "code",
   "execution_count": 14,
   "metadata": {},
   "outputs": [],
   "source": [
    "# Child class (inherits from Perro class)\n",
    "class Galgo(Perro):\n",
    "    velocidad = 72"
   ]
  },
  {
   "cell_type": "code",
   "execution_count": 15,
   "metadata": {},
   "outputs": [
    {
     "name": "stdout",
     "output_type": "stream",
     "text": [
      "Lulu corre a 20 km/h\n"
     ]
    }
   ],
   "source": [
    "lulu = Galgo(\"Lulu\", 4)\n",
    "print(lulu.correr())"
   ]
  },
  {
   "cell_type": "markdown",
   "metadata": {},
   "source": [
    "### __EJERCICIO__"
   ]
  },
  {
   "cell_type": "markdown",
   "metadata": {},
   "source": [
    "Crear la especie Border Collie con la funcion Pastorear Ovejas. La funcion Pastorear ovejas muestra por pantalla \"_nombre del perro_ saca las ovejas al campo\".\n",
    "Solo los perros mayores de dos años pueden sacar las ovejas a pastorear"
   ]
  },
  {
   "cell_type": "code",
   "execution_count": 18,
   "metadata": {},
   "outputs": [],
   "source": [
    "class BorderCollie(Perro):\n",
    "    def pastorearOvejas(self):\n",
    "        if (self.edad > 2):\n",
    "            return \"{} saca las ovejas al campo\".format(self.nombre)\n",
    "        else:\n",
    "            return \"{} es aún demasiado joven para pastorear\".format(self.nombre)"
   ]
  },
  {
   "cell_type": "code",
   "execution_count": 19,
   "metadata": {},
   "outputs": [
    {
     "name": "stdout",
     "output_type": "stream",
     "text": [
      "Nevado es aún demasiado joven para pastorear\n"
     ]
    }
   ],
   "source": [
    "nevado = BorderCollie(\"Nevado\", 2)\n",
    "print(nevado.pastorearOvejas())"
   ]
  },
  {
   "cell_type": "code",
   "execution_count": null,
   "metadata": {},
   "outputs": [],
   "source": [
    "print(nevado.descripcion())"
   ]
  },
  {
   "cell_type": "code",
   "execution_count": null,
   "metadata": {},
   "outputs": [],
   "source": [
    "nevado.cumplirAnos()"
   ]
  },
  {
   "cell_type": "code",
   "execution_count": null,
   "metadata": {},
   "outputs": [],
   "source": [
    "print(nevado.descripcion())"
   ]
  },
  {
   "cell_type": "code",
   "execution_count": null,
   "metadata": {},
   "outputs": [],
   "source": [
    "print(nevado.pastorearOvejas())"
   ]
  },
  {
   "cell_type": "markdown",
   "metadata": {},
   "source": []
  },
  {
   "cell_type": "markdown",
   "metadata": {},
   "source": [
    "### __EJERCICIO__"
   ]
  },
  {
   "cell_type": "markdown",
   "metadata": {},
   "source": [
    "Ahora haremos esto sin tener que replicar código. Haciendo uso de la herencia de clases."
   ]
  },
  {
   "cell_type": "code",
   "execution_count": 20,
   "metadata": {},
   "outputs": [],
   "source": [
    "class PerroPastor(Perro):\n",
    "    def pastorearOvejas(self):\n",
    "        if (self.edad > 2):\n",
    "            return \"{} saca las ovejas al campo\".format(self.nombre)\n",
    "        else:\n",
    "            return \"{} es aún demasiado joven para pastorear\".format(self.nombre)"
   ]
  },
  {
   "cell_type": "code",
   "execution_count": 30,
   "metadata": {},
   "outputs": [],
   "source": [
    "class BorderCollie(PerroPastor):\n",
    "    pass\n",
    "class PastorAleman(PerroPastor):\n",
    "    pass"
   ]
  },
  {
   "cell_type": "markdown",
   "metadata": {},
   "source": [
    "### __EJERCICIO__"
   ]
  },
  {
   "cell_type": "markdown",
   "metadata": {},
   "source": [
    "Añade los parametros _altura_ , _peso_ , y inteligencia (de 0 a 10) a todos los perros. El usuario debera introducir estos valores al crear un perro. \n",
    "Por ejemplo: \n",
    "Para crear un pastor aleman llamado roco, que tiene 2 años, mide 60cm de altura, pesa 25 kg y tiene una inteligencia de 7. Deberemos poder ejecutar el siguiente comando.\n",
    "roco = PastorAleman(\"Roco\", 2, 60, 25, 7)"
   ]
  },
  {
   "cell_type": "code",
   "execution_count": null,
   "metadata": {},
   "outputs": [],
   "source": []
  },
  {
   "cell_type": "markdown",
   "metadata": {},
   "source": [
    "### __EJERCICIO__"
   ]
  },
  {
   "cell_type": "markdown",
   "metadata": {},
   "source": [
    "Actualiza la función descripción para que muestre todos los valores añadidos."
   ]
  },
  {
   "cell_type": "code",
   "execution_count": null,
   "metadata": {},
   "outputs": [],
   "source": []
  },
  {
   "cell_type": "markdown",
   "metadata": {},
   "source": [
    "### __EJERCICIO__"
   ]
  },
  {
   "cell_type": "markdown",
   "metadata": {},
   "source": [
    "Haz que los perros pastores se les asigne un punto extra de inteligencia al crearse."
   ]
  },
  {
   "cell_type": "code",
   "execution_count": null,
   "metadata": {},
   "outputs": [],
   "source": []
  },
  {
   "cell_type": "markdown",
   "metadata": {},
   "source": [
    "### __EJERCICIO__"
   ]
  },
  {
   "cell_type": "markdown",
   "metadata": {},
   "source": [
    "Haz que los perros tengan un valor numerico del 0 al 10 que indique la hambre que tienen, creandose a 5. Haz que los perros solo puedan comer cuando tienen un hambre superior a 2. Y que dejen de tener hambre (hambre igual a 0) despues de comer."
   ]
  },
  {
   "cell_type": "code",
   "execution_count": null,
   "metadata": {},
   "outputs": [],
   "source": []
  },
  {
   "cell_type": "markdown",
   "metadata": {},
   "source": [
    "### __EJERCICIO__"
   ]
  },
  {
   "cell_type": "markdown",
   "metadata": {},
   "source": [
    "Haz que correr incremente el hambre en 3 puntos. Haz que que pastorear obejas incremente el hambre en 5."
   ]
  },
  {
   "cell_type": "code",
   "execution_count": null,
   "metadata": {},
   "outputs": [],
   "source": []
  },
  {
   "cell_type": "markdown",
   "metadata": {},
   "source": []
  },
  {
   "cell_type": "code",
   "execution_count": null,
   "metadata": {},
   "outputs": [],
   "source": []
  },
  {
   "cell_type": "code",
   "execution_count": null,
   "metadata": {},
   "outputs": [],
   "source": []
  },
  {
   "cell_type": "code",
   "execution_count": null,
   "metadata": {},
   "outputs": [],
   "source": []
  }
 ],
 "metadata": {
  "kernelspec": {
   "display_name": "Python 3",
   "language": "python",
   "name": "python3"
  },
  "language_info": {
   "codemirror_mode": {
    "name": "ipython",
    "version": 3
   },
   "file_extension": ".py",
   "mimetype": "text/x-python",
   "name": "python",
   "nbconvert_exporter": "python",
   "pygments_lexer": "ipython3",
   "version": "3.7.4"
  }
 },
 "nbformat": 4,
 "nbformat_minor": 2
}
