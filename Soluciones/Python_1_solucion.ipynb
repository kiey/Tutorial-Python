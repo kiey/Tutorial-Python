{
 "cells": [
  {
   "cell_type": "markdown",
   "metadata": {},
   "source": [
    "# Introducción a Programación"
   ]
  },
  {
   "cell_type": "markdown",
   "metadata": {},
   "source": [
    "Bienvenido. En este curso vamos aprender programación usando el lenguaje python. Vamos a empezar con el clasico programa de introducción. El \"hola mundo\". Este es un programa que al ejecutarse muestra el texto \"hola mundo\" por pantalla. Para ejecutar una celda de codigo pulsa shift + enter.\n",
    "El programa es el siguiente:"
   ]
  },
  {
   "cell_type": "code",
   "execution_count": null,
   "metadata": {},
   "outputs": [],
   "source": [
    "print(\"hola mundo\")"
   ]
  },
  {
   "cell_type": "markdown",
   "metadata": {},
   "source": [
    "El codigo anterior nos introduce a la _funcion_ **print**. Está es la orden de python para mostrar cosas por pantalla, ya sean texto, numeros o una mezcla de ellos. `print(\"hola mundo\")` muestra el texto _hola mundo_ por pantalla. En programación para diferenciar lo que es un texto de los que es parte del programa se usa el simbolo dobles comillas \" \". Todo lo que este dentro de \" \" serà entendido como texto, no como código."
   ]
  },
  {
   "cell_type": "markdown",
   "metadata": {},
   "source": [
    "Por ejemplo el mismo código anterior pero sin el correcto uso de las dobles comillas nos da el siguiente error."
   ]
  },
  {
   "cell_type": "code",
   "execution_count": null,
   "metadata": {},
   "outputs": [],
   "source": [
    "print(hola mundo)"
   ]
  },
  {
   "cell_type": "markdown",
   "metadata": {},
   "source": [
    "Error de sintaxi en la linea 1 de código. En este caso solo tenemos una asi que solo puede ser en la primera."
   ]
  },
  {
   "cell_type": "markdown",
   "metadata": {},
   "source": [
    "### Tu turno"
   ]
  },
  {
   "cell_type": "markdown",
   "metadata": {},
   "source": [
    "Escribe un programa en la siguiente celda que muestre por pantalla tu nombre"
   ]
  },
  {
   "cell_type": "code",
   "execution_count": 1,
   "metadata": {},
   "outputs": [
    {
     "name": "stdout",
     "output_type": "stream",
     "text": [
      "Joan Marcual\n"
     ]
    }
   ],
   "source": [
    "print(\"Joan Marcual\")"
   ]
  },
  {
   "cell_type": "markdown",
   "metadata": {},
   "source": [
    "Escribe un programa el el que se muestren dos lineas, una con tu nombre y la siguiente con tus apellidos"
   ]
  },
  {
   "cell_type": "code",
   "execution_count": 4,
   "metadata": {},
   "outputs": [
    {
     "name": "stdout",
     "output_type": "stream",
     "text": [
      "Joan\n",
      "Marcual\n",
      "Joan\n",
      "Marcual\n"
     ]
    }
   ],
   "source": [
    "#Hay dos opciones\n",
    "\n",
    "#Dos prints\n",
    "print(\"Joan\")\n",
    "print(\"Marcual\")\n",
    "#Un print con el caracter especial \\n(salto de linea)\n",
    "print(\"Joan\\nMarcual\")"
   ]
  },
  {
   "cell_type": "markdown",
   "metadata": {},
   "source": [
    "## Variables"
   ]
  },
  {
   "cell_type": "markdown",
   "metadata": {},
   "source": [
    "En todo lenguaje de programación se pueden declarar variables, por ejemplo `x = 42`. De esta forma podemos guardar, modificar y operar con datos. Por ejemplo el siguiente código crea 3 variables **x, y, z** con los valores **1, 2 , 3**"
   ]
  },
  {
   "cell_type": "markdown",
   "metadata": {},
   "source": [
    "_Nota: python no es un lenguaje tipado (untyped). Lo que significa que python no te hace definir un tipo especifico de variable, por contra en un lengauge tipado clasicamente deberiamos declar x como `int x` antes de asignarle un numero entero._"
   ]
  },
  {
   "cell_type": "code",
   "execution_count": null,
   "metadata": {},
   "outputs": [],
   "source": [
    "x = 1\n",
    "y = 2\n",
    "z = 3"
   ]
  },
  {
   "cell_type": "markdown",
   "metadata": {},
   "source": [
    "Ahora que tenemos estas varibles, podemos trabajar con ellas por ejemplo podemos mostrarlas. Haciendo uso de las función `print`"
   ]
  },
  {
   "cell_type": "code",
   "execution_count": null,
   "metadata": {},
   "outputs": [],
   "source": [
    "print(x)\n",
    "print(y)\n",
    "print(z)"
   ]
  },
  {
   "cell_type": "markdown",
   "metadata": {},
   "source": [
    "Las variables pueden ser de varios tipos distintos, algunos de ellos son:\n",
    "* __Números__: como `42`\n",
    "* __Boleanos__: como `True` o como `False`\n",
    "* __Texto__: como `\"hola mundo\"`"
   ]
  },
  {
   "cell_type": "markdown",
   "metadata": {},
   "source": [
    "### Tu turno"
   ]
  },
  {
   "cell_type": "markdown",
   "metadata": {},
   "source": [
    "En la siguiente celda, declara una variable llamada `miTexto` con el contenido \"hola mundo\". Y muéstrala por pantalla"
   ]
  },
  {
   "cell_type": "code",
   "execution_count": 5,
   "metadata": {},
   "outputs": [
    {
     "name": "stdout",
     "output_type": "stream",
     "text": [
      "hola mundo\n"
     ]
    }
   ],
   "source": [
    "miTexto = \"hola mundo\"\n",
    "print(miTexto)"
   ]
  },
  {
   "cell_type": "markdown",
   "metadata": {},
   "source": [
    "Crea una varibale booleana que crea sea cierta, `True` y muéstrala por pantalla"
   ]
  },
  {
   "cell_type": "code",
   "execution_count": 6,
   "metadata": {},
   "outputs": [],
   "source": [
    "cierto = True"
   ]
  },
  {
   "cell_type": "markdown",
   "metadata": {},
   "source": [
    "## Operaciónes con variables"
   ]
  },
  {
   "cell_type": "markdown",
   "metadata": {},
   "source": [
    "Una vez tenemos variables definindas podemos operar con ellas. Por ejemplo podemos hacer operaciones matematicas con las variables numericas. El la siguiente celda declaramos dos variables, las sumamos guardandonos el resultado en una tercera variable y mostramos esta última por pantalla."
   ]
  },
  {
   "cell_type": "code",
   "execution_count": null,
   "metadata": {},
   "outputs": [],
   "source": [
    "x = 3\n",
    "y = 4\n",
    "\n",
    "z = x + y\n",
    "print(z)"
   ]
  },
  {
   "cell_type": "markdown",
   "metadata": {},
   "source": [
    "### Tu turno "
   ]
  },
  {
   "cell_type": "markdown",
   "metadata": {},
   "source": [
    "Crea un código que cree 3 variables, __x y z__ con los valores __4 5 2__. Sume las <b>x</b> e <b>y</b>. Divida por <b>z</b>, y muestre el resultado por pantalla. "
   ]
  },
  {
   "cell_type": "code",
   "execution_count": 9,
   "metadata": {},
   "outputs": [
    {
     "name": "stdout",
     "output_type": "stream",
     "text": [
      "4.5\n"
     ]
    }
   ],
   "source": [
    "x = 4\n",
    "y = 5\n",
    "z = 2\n",
    "resultado = (x+y)/z #ojo con las prioridades de operaciones,\n",
    "                    #sin el parentesis se ejecutara la division primero\n",
    "print(resultado)"
   ]
  },
  {
   "cell_type": "markdown",
   "metadata": {},
   "source": [
    "Declara dos variables de texto. Por ejemplo una con el contenido \"hola\" y la otra con el contenido \"adios\", sumalas y muéstralas por pantalla."
   ]
  },
  {
   "cell_type": "code",
   "execution_count": 12,
   "metadata": {},
   "outputs": [
    {
     "name": "stdout",
     "output_type": "stream",
     "text": [
      "holaadios\n",
      "hola adios\n"
     ]
    }
   ],
   "source": [
    "texto1 = \"hola\"\n",
    "texto2 = \"adios\"\n",
    "sumaDeTextos = texto1 + texto2\n",
    "print(sumaDeTextos)\n",
    "#Si queremos un espacio entre medio de las dos palabras, podemos sumar el texto espacio\n",
    "sumaDeTextos = texto1 + \" \" + texto2\n",
    "print(sumaDeTextos)"
   ]
  },
  {
   "cell_type": "markdown",
   "metadata": {},
   "source": [
    "Ahora prueba de sumar una variable de texto con una variable numérica"
   ]
  },
  {
   "cell_type": "code",
   "execution_count": 14,
   "metadata": {},
   "outputs": [
    {
     "ename": "TypeError",
     "evalue": "unsupported operand type(s) for +: 'int' and 'str'",
     "output_type": "error",
     "traceback": [
      "\u001b[1;31m---------------------------------------------------------------------------\u001b[0m",
      "\u001b[1;31mTypeError\u001b[0m                                 Traceback (most recent call last)",
      "\u001b[1;32m<ipython-input-14-9aa25629d20a>\u001b[0m in \u001b[0;36m<module>\u001b[1;34m\u001b[0m\n\u001b[0;32m      1\u001b[0m \u001b[0mt\u001b[0m \u001b[1;33m=\u001b[0m \u001b[1;34m\"hola\"\u001b[0m\u001b[1;33m\u001b[0m\u001b[1;33m\u001b[0m\u001b[0m\n\u001b[0;32m      2\u001b[0m \u001b[0mx\u001b[0m \u001b[1;33m=\u001b[0m \u001b[1;36m7\u001b[0m\u001b[1;33m\u001b[0m\u001b[1;33m\u001b[0m\u001b[0m\n\u001b[1;32m----> 3\u001b[1;33m \u001b[0mx\u001b[0m \u001b[1;33m+\u001b[0m \u001b[0mt\u001b[0m\u001b[1;33m\u001b[0m\u001b[1;33m\u001b[0m\u001b[0m\n\u001b[0m\u001b[0;32m      4\u001b[0m \u001b[1;31m# Las operaciones entre diferentes tipos no funcionan normalmente\u001b[0m\u001b[1;33m\u001b[0m\u001b[1;33m\u001b[0m\u001b[1;33m\u001b[0m\u001b[0m\n",
      "\u001b[1;31mTypeError\u001b[0m: unsupported operand type(s) for +: 'int' and 'str'"
     ]
    }
   ],
   "source": [
    "t = \"hola\"\n",
    "x = 7\n",
    "x + t\n",
    "# Las operaciones entre diferentes tipos no funcionan normalmente"
   ]
  },
  {
   "cell_type": "markdown",
   "metadata": {},
   "source": [
    "### Impresión de variables junto a texto"
   ]
  },
  {
   "cell_type": "markdown",
   "metadata": {},
   "source": [
    "Si queremos mostrar por pantalla una variable junto a un texto, usaremos la función `format` al final del texto usando un punto. En el texto señalizaremos dónde queremos que `format` nos ponga las variables usando los simbolos `{}`. Y por último le diremos a `format` que variables poner."
   ]
  },
  {
   "cell_type": "code",
   "execution_count": null,
   "metadata": {},
   "outputs": [],
   "source": [
    "a = 99\n",
    "print(\"El valor de la variable a es {}\".format(a))\n",
    "a = 11\n",
    "print(\"Encambio el valor de a ahora es {}\".format(a))"
   ]
  },
  {
   "cell_type": "markdown",
   "metadata": {},
   "source": [
    "Podemos mostrar tantas variables como queramos a la vez. Por ejemplo"
   ]
  },
  {
   "cell_type": "code",
   "execution_count": null,
   "metadata": {},
   "outputs": [],
   "source": [
    "a = 1\n",
    "b = 2\n",
    "print(\"a es {} y b es {}\".format(a,b))"
   ]
  },
  {
   "cell_type": "markdown",
   "metadata": {},
   "source": [
    "### Tu turno"
   ]
  },
  {
   "cell_type": "markdown",
   "metadata": {},
   "source": [
    "Define dos variables, una con tu nombre y otra con tu edad. Usando la función `format` haz que muestre por pantalla la frase \"_tuNombre_ tiene _edad_ años\""
   ]
  },
  {
   "cell_type": "code",
   "execution_count": 15,
   "metadata": {},
   "outputs": [
    {
     "name": "stdout",
     "output_type": "stream",
     "text": [
      "pepe tiene 40 años\n"
     ]
    }
   ],
   "source": [
    "tuNombre = \"pepe\"\n",
    "edad     = 40\n",
    "print(\"{} tiene {} años\".format(tuNombre, edad))"
   ]
  },
  {
   "cell_type": "markdown",
   "metadata": {},
   "source": [
    "## Operaciones matemáticas simples"
   ]
  },
  {
   "cell_type": "markdown",
   "metadata": {},
   "source": [
    "Las operaciones matemáticas más comunes son la suma, la resta, la múltiplicación y la división. Estas operación se señalizan con los clasicos simbolos `+ - * /` A estas 4 operaciones debemos añadir la operacion _módulo_ y la operación _division entera_. La division entera es la división sin parte decimal se denota con el simbolo `//`, y el _modulo_ hace es cálcular el residuo de una división. La operación módulo se denota con el símbolo `%`."
   ]
  },
  {
   "cell_type": "markdown",
   "metadata": {},
   "source": [
    "_Nota: Cuando una línea de código es demasido larga la podemos cortar haciento uso del simbolo `\\`_"
   ]
  },
  {
   "cell_type": "code",
   "execution_count": null,
   "metadata": {},
   "outputs": [],
   "source": [
    "dividendo = 10\n",
    "divisor   = 4\n",
    "quociente = dividendo//divisor\n",
    "residuo   = dividendo%divisor\n",
    "\n",
    "print(\"El residuo de la division de {} y {} es {}, y el residuo \\\n",
    "es {}\".format(dividendo, divisor, quociente, residuo))\n",
    "\n"
   ]
  },
  {
   "cell_type": "markdown",
   "metadata": {},
   "source": [
    "### Tu turno"
   ]
  },
  {
   "cell_type": "markdown",
   "metadata": {},
   "source": [
    "Crea una variable <b>x</b> con valor 1595, y una variable <b>y</b> con valor 1660. Calcula usando la operación módulo si estos numeros son divisibles por <b>11</b>"
   ]
  },
  {
   "cell_type": "code",
   "execution_count": 18,
   "metadata": {},
   "outputs": [
    {
     "name": "stdout",
     "output_type": "stream",
     "text": [
      "El resiudo de dividir 1595 entre 11 es 0\n",
      "El resiudo de dividir 1660 entre 11 es 10\n"
     ]
    }
   ],
   "source": [
    "x = 1595\n",
    "y = 1660\n",
    "residuoX = x % 11\n",
    "residuoY = y % 11\n",
    "print(\"El resiudo de dividir {} entre 11 es {}\".format(x,residuoX))\n",
    "print(\"El resiudo de dividir {} entre 11 es {}\".format(y,residuoY))"
   ]
  },
  {
   "cell_type": "markdown",
   "metadata": {},
   "source": [
    "## Entrada "
   ]
  },
  {
   "cell_type": "markdown",
   "metadata": {},
   "source": [
    "La programación no sirve de nada si no podemos entrar los datos que nos interesan calcular. Para ello existen las operaciones de entrada. Ahora veremos como leer datos que entren desde el teclado y guardarlos en una variable."
   ]
  },
  {
   "cell_type": "code",
   "execution_count": null,
   "metadata": {},
   "outputs": [],
   "source": [
    "print('Escribe tu nombre:')\n",
    "x = input()\n",
    "print(\"Hola {}, bienvenido.\".format(x)) "
   ]
  },
  {
   "cell_type": "markdown",
   "metadata": {},
   "source": [
    "### Tu turno"
   ]
  },
  {
   "cell_type": "markdown",
   "metadata": {},
   "source": [
    "Crea un programa que pregunte tu nombre, despues tu apellido, y te de la bienvenida con tu nombre completo"
   ]
  },
  {
   "cell_type": "code",
   "execution_count": 19,
   "metadata": {},
   "outputs": [
    {
     "name": "stdout",
     "output_type": "stream",
     "text": [
      "Escribe tu nombre\n",
      "joan\n",
      "Escribe tu apellido\n",
      "marcual\n",
      "Hola joan marcual, bienvenido.\n"
     ]
    }
   ],
   "source": [
    "print(\"Escribe tu nombre\")\n",
    "nombre = input()\n",
    "print(\"Escribe tu apellido\")\n",
    "apellido = input()\n",
    "print(\"Hola {} {}, bienvenido.\".format(nombre, apellido)) "
   ]
  },
  {
   "cell_type": "markdown",
   "metadata": {},
   "source": [
    "Crea un programa donde puedas entrar numeros y te diga si estos son pares o no. _Nota: por defecto python se piensa que lo que los valores que le entran son texto, para interpretar las entradas como numeros debemos decir que son numeros los valores que entran. Lo podemos hacer de la siguiente forma `int(input())`_"
   ]
  },
  {
   "cell_type": "code",
   "execution_count": 20,
   "metadata": {},
   "outputs": [
    {
     "name": "stdout",
     "output_type": "stream",
     "text": [
      "5\n",
      "False\n"
     ]
    }
   ],
   "source": [
    "x = int(input())\n",
    "print(x%2==0)"
   ]
  },
  {
   "cell_type": "markdown",
   "metadata": {},
   "source": [
    "Crea un programa donde entren dos numeros y te devuelva su multiplicación"
   ]
  },
  {
   "cell_type": "markdown",
   "metadata": {},
   "source": [
    "## Operaciones booleanenas"
   ]
  },
  {
   "cell_type": "markdown",
   "metadata": {},
   "source": [
    "Hemos visto que las variables tambien pueden tomar valores booleanos, estos son `True` y `False`. Con ellos podemos usar operaciones de lógica como por ejemplo `and`, `or`.\n",
    "Recordemos cuales son las tablas de la verdad de estas operaciones. El resultado de la and es solo cierto cuando las dos variables son ciertas y falso en todos los demás casos. Y el resultado de la or es cierto cuando almenos una de las dos es cierta.\n",
    "\n",
    "| AND || 0 | 1 |\n",
    "|---------|-|---|---|\n",
    "| **0**   || 0 | 0 |\n",
    "| **1**   || 0 | 1 |\n",
    "\n",
    "| OR || 0 | 1 |\n",
    "|---------|-|---|---|\n",
    "| **0**   || 0 | 1 |\n",
    "| **1**   || 1 | 1 |"
   ]
  },
  {
   "cell_type": "markdown",
   "metadata": {},
   "source": [
    "Con ellas podemos modelar eventos. En el siguiente ejemplo modelamos si alguien saldra o no en a montar en bici. Para ello usamos el operador logico `and`"
   ]
  },
  {
   "cell_type": "code",
   "execution_count": 1,
   "metadata": {},
   "outputs": [
    {
     "name": "stdout",
     "output_type": "stream",
     "text": [
      "False\n"
     ]
    }
   ],
   "source": [
    "haceSol     = False\n",
    "tiempoLibre = True\n",
    "\n",
    "salirEnBici = haceSol and tiempoLibre\n",
    "print(salirEnBici)"
   ]
  },
  {
   "cell_type": "markdown",
   "metadata": {},
   "source": [
    "### Tu turno"
   ]
  },
  {
   "cell_type": "markdown",
   "metadata": {},
   "source": [
    "Usando operadores lógicos rellena el siguiente código para decidir si ir o no a una fiesta. Queremos ir a la fiesta si va uno de nuestros amigos o si van dos conocido. Rellena la definición de la variable _irFiesta_ para que actue como deseamos."
   ]
  },
  {
   "cell_type": "code",
   "execution_count": 8,
   "metadata": {},
   "outputs": [
    {
     "name": "stdout",
     "output_type": "stream",
     "text": [
      "Ire a la fiesta es igual a False\n"
     ]
    }
   ],
   "source": [
    "amigo = False\n",
    "conocido1 = False\n",
    "conocido2 = False\n",
    "#Esta es la linea que tienes que rellenar\n",
    "irFiesta = amigo or (conocido1 and conocido2)               \n",
    "print(\"Ire a la fiesta es igual a {}\".format(irFiesta))"
   ]
  },
  {
   "cell_type": "markdown",
   "metadata": {},
   "source": [
    "## Comentarios"
   ]
  },
  {
   "cell_type": "markdown",
   "metadata": {},
   "source": [
    "Los comentarios sirven para añadir líneas en el código que no serán ejecutadas. Sirven mayoritariamente para explicar lo que se está haciendo y así hacer el código más fácil de compreender. Esto se hace con el símbolo `#`, después de `#` nada será ejecutado en esa línea.\n",
    "Si queremos usar esta operación en bloque usaremos tres veces dobles comillas `\"\"\"` y cerraremos de la misma forma `\"\"\"`\n"
   ]
  },
  {
   "cell_type": "code",
   "execution_count": null,
   "metadata": {},
   "outputs": [],
   "source": [
    "a = 2 #Aqui estamos asignando 2 a la variable a\n",
    "# a = 3 esto no se ejecuta\n",
    "\"\"\"\n",
    "Si queremos\n",
    "varias \n",
    "lineas\n",
    "de comentarios\n",
    "lo podemos hacer asi\n",
    "\"\"\"\n",
    "print(a)"
   ]
  },
  {
   "cell_type": "markdown",
   "metadata": {},
   "source": [
    "## Funciones"
   ]
  },
  {
   "cell_type": "markdown",
   "metadata": {},
   "source": [
    "Cuando un trozo de código será, o tiene potencial de ser, usado más de una vez lo empaquetaremos en una _función_. Las funciones sirven para no tener que reescribir el mismo código una y otra vez cada vez que queremos implementar esa funcionalidad. También nos sirven para separar las tareas de programación entre diferentes programadores y despreocuparnos de como se hacen ciertas operaciones."
   ]
  },
  {
   "cell_type": "markdown",
   "metadata": {},
   "source": [
    "Para crear o definir una función usaremos la palabra clave `def`. Junto al nombre que le demos a la función, y entre parentesis `()` las variables que usará seguido de dos puntos `:`. Dejaremos los parentesis vácios en caso de que no usemos ninguna.\n",
    "\n",
    "Ejemplo de función."
   ]
  },
  {
   "cell_type": "code",
   "execution_count": 11,
   "metadata": {},
   "outputs": [
    {
     "name": "stdout",
     "output_type": "stream",
     "text": [
      "Bienvenido Fulanito\n",
      "Bienvenido Pepito\n"
     ]
    }
   ],
   "source": [
    "def darLaBienvenida(nombre):\n",
    "    print(\"Bienvenido {}\".format(nombre))\n",
    "\n",
    "nombre1 = \"Fulanito\"\n",
    "nombre2 = \"Pepito\"\n",
    "darLaBienvenida(nombre1)\n",
    "darLaBienvenida(nombre2)"
   ]
  },
  {
   "cell_type": "markdown",
   "metadata": {},
   "source": [
    "Ejemplo 2. En este caso hacemos que la funcion _retorne_ un valor. Este valor podrá ser asignado a una variable como en el siguiente ejemplo."
   ]
  },
  {
   "cell_type": "code",
   "execution_count": 13,
   "metadata": {},
   "outputs": [
    {
     "name": "stdout",
     "output_type": "stream",
     "text": [
      "Introduce la base\n",
      "3\n",
      "Introduce la altura\n",
      "4\n",
      "12\n"
     ]
    }
   ],
   "source": [
    "def calcularArea(base, altura):\n",
    "    area = base * altura\n",
    "    return area\n",
    "\n",
    "print(\"Introduce la base\")\n",
    "miBase = int(input()) #Se debe usar int(input()) para leer numeros enteros\n",
    "print(\"Introduce la altura\")\n",
    "miAltura = int(input())\n",
    "\n",
    "miArea = calcularArea(miBase, miAltura)\n",
    "print(miArea)"
   ]
  },
  {
   "cell_type": "markdown",
   "metadata": {},
   "source": [
    "Fijate que el código dentro de la función deberá estar identado, esto significa que deberá estar 4 espacios a la derecha, o una tabulación (tecla Tab)."
   ]
  },
  {
   "cell_type": "markdown",
   "metadata": {},
   "source": [
    "### Tu turno"
   ]
  },
  {
   "cell_type": "markdown",
   "metadata": {},
   "source": [
    "Crea la función _suma_ que dados dos numero devuelva su suma"
   ]
  },
  {
   "cell_type": "code",
   "execution_count": 21,
   "metadata": {},
   "outputs": [
    {
     "name": "stdout",
     "output_type": "stream",
     "text": [
      "15\n"
     ]
    }
   ],
   "source": [
    "def suma(a,b):\n",
    "    resultado = a + b\n",
    "    return resultado\n",
    "\n",
    "print(suma(10,5))"
   ]
  },
  {
   "cell_type": "markdown",
   "metadata": {},
   "source": [
    "Crea la función _media_ que dados 4 numeros devuelva su media"
   ]
  },
  {
   "cell_type": "code",
   "execution_count": 23,
   "metadata": {},
   "outputs": [
    {
     "name": "stdout",
     "output_type": "stream",
     "text": [
      "10.0\n"
     ]
    }
   ],
   "source": [
    "def media(a, b, c, d):\n",
    "    sumaABCD = a + b + c + d\n",
    "    resultado = sumaABCD / 4\n",
    "    return resultado\n",
    "\n",
    "print(media(1,2,3,4))"
   ]
  },
  {
   "cell_type": "markdown",
   "metadata": {},
   "source": [
    "Crea una función areaTriangulo que calculo areas de triangulos dadas la base y la altura\n"
   ]
  },
  {
   "cell_type": "code",
   "execution_count": 25,
   "metadata": {},
   "outputs": [
    {
     "name": "stdout",
     "output_type": "stream",
     "text": [
      "5.0\n"
     ]
    }
   ],
   "source": [
    "def calcularAreaTriangulo(base, altura):\n",
    "    area = (base * altura)/2\n",
    "    return area\n",
    "\n",
    "print(calcularAreaTriangulo(2,5))"
   ]
  },
  {
   "cell_type": "markdown",
   "metadata": {},
   "source": [
    "## Control de flujo I"
   ]
  },
  {
   "cell_type": "markdown",
   "metadata": {},
   "source": [
    "Muchas veces nos encontramos que dependiendo de los valores que tenemos queremos que los programas ejecuten cálculos diferentes. Esto lo podemos hacer con la palabra clave `if`, _si_ condicional en español.   "
   ]
  },
  {
   "cell_type": "markdown",
   "metadata": {},
   "source": [
    "En el ejemplo siguiente creamos la función aprovar. Que mirará si la nota es mayor que o igual que cinco y nos dirá por pantalla si hemos aprobado o suspendido"
   ]
  },
  {
   "cell_type": "code",
   "execution_count": 27,
   "metadata": {},
   "outputs": [
    {
     "name": "stdout",
     "output_type": "stream",
     "text": [
      "Introduce tu nota:\n",
      "4\n",
      "Lo siento has suspendido\n"
     ]
    }
   ],
   "source": [
    "def aprobar(nota):\n",
    "    if nota >= 5:\n",
    "        print(\"Has aprobado!\")\n",
    "    if nota < 5:\n",
    "        print(\"Lo siento has suspendido\")\n",
    "\n",
    "print(\"Introduce tu nota:\")\n",
    "miNota = int(input());\n",
    "aprobar(miNota)"
   ]
  },
  {
   "cell_type": "markdown",
   "metadata": {},
   "source": [
    "### Tu turno"
   ]
  },
  {
   "cell_type": "markdown",
   "metadata": {},
   "source": [
    "Crea una función evaluar, que escriba por pantalla. Suspendio si la nota es menor a 5, suficiente si es de 5 a 6, bien si es de 6 a 7, notable si es de 7 a 9, y excelente si es mayor de 9."
   ]
  },
  {
   "cell_type": "code",
   "execution_count": null,
   "metadata": {},
   "outputs": [],
   "source": [
    "def notaATexto(nota):\n",
    "    if nota < 5:\n",
    "        print(\"Suspendido\")\n",
    "    if nota >= 5 and nota < 6:\n",
    "        print(\"Suficiente\")\n",
    "    if 6>=nota<7:\n",
    "        print(\"Bien\")\n",
    "    if nota >=7 and nota <9:\n",
    "        print(\"Notable\")\n",
    "    if nota >= 9:\n",
    "        print(\"Excelente\")\n",
    "\n",
    "notaATexto(int(input()))"
   ]
  },
  {
   "cell_type": "markdown",
   "metadata": {},
   "source": [
    "## Control de flujo II"
   ]
  },
  {
   "cell_type": "markdown",
   "metadata": {},
   "source": [
    "Además de la palabra clave `if` también existe la palabra clave `else` que se ejecuta en caso de que la condición del if no se cumpla. En español se podria leer como \"por contra ejecuta esto\"."
   ]
  },
  {
   "cell_type": "markdown",
   "metadata": {},
   "source": [
    "El ejemplo anterior puede ser reescrito de esta forma usando `else`"
   ]
  },
  {
   "cell_type": "code",
   "execution_count": null,
   "metadata": {},
   "outputs": [
    {
     "name": "stdout",
     "output_type": "stream",
     "text": [
      "Introduce tu nota:\n"
     ]
    }
   ],
   "source": [
    "def aprobar(nota):\n",
    "    if nota >= 5:\n",
    "        print(\"Has aprobado!\")\n",
    "    else:\n",
    "        print(\"Lo siento has suspendido\")\n",
    "\n",
    "print(\"Introduce tu nota:\")\n",
    "miNota = int(input());\n",
    "aprobar(miNota)"
   ]
  },
  {
   "cell_type": "markdown",
   "metadata": {},
   "source": [
    "También existe la palabra clave `elif` que sirve para comprobar una condición en caso de que el anterior if no sea cierto. Veamos esto en los siguientes ejemplos."
   ]
  },
  {
   "cell_type": "markdown",
   "metadata": {},
   "source": [
    "Por ejemplo queremos hacer una función que nos transforme la nota de numérica a escala de \"bien, notable, etc\""
   ]
  },
  {
   "cell_type": "code",
   "execution_count": 1,
   "metadata": {},
   "outputs": [
    {
     "name": "stdout",
     "output_type": "stream",
     "text": [
      "Introduce la nota\n",
      "9\n",
      "excelente\n"
     ]
    }
   ],
   "source": [
    "def imprimirNotaTexto(nota):\n",
    "    if nota >= 9:\n",
    "        print(\"excelente\")\n",
    "    elif nota >= 7:\n",
    "        print(\"notable\")\n",
    "    elif nota >= 6:\n",
    "        print(\"bien\")\n",
    "    elif nota >= 5:\n",
    "        print(\"suficiente\")\n",
    "    elif nota < 5:\n",
    "        print (\"suspenso\")\n",
    "\n",
    "\n",
    "print(\"Introduce la nota\")\n",
    "nota = int(input())\n",
    "imprimirNotaTexto(nota)"
   ]
  },
  {
   "cell_type": "markdown",
   "metadata": {},
   "source": [
    "### Tu turno"
   ]
  },
  {
   "cell_type": "markdown",
   "metadata": {},
   "source": [
    "Ahora vamos a cambiar los `elif` por `if`. Prueba con las siguientes notas: __3,5,6,7,10__ y explicad que ocurre."
   ]
  },
  {
   "cell_type": "code",
   "execution_count": 2,
   "metadata": {},
   "outputs": [
    {
     "name": "stdout",
     "output_type": "stream",
     "text": [
      "Introduce la nota\n",
      "9\n",
      "excelente\n",
      "notable\n",
      "bien\n",
      "suficiente\n"
     ]
    }
   ],
   "source": [
    "def ERRONEA_transformarNota2Texto(nota):\n",
    "    if nota >= 9:\n",
    "        print(\"excelente\")\n",
    "    if nota >= 7:\n",
    "        print(\"notable\")\n",
    "    if nota >= 6:\n",
    "        print(\"bien\")\n",
    "    if nota >= 5:\n",
    "        print(\"suficiente\")\n",
    "    if nota < 5:\n",
    "        print(\"suspenso\")\n",
    "\n",
    "print(\"Introduce la nota\")\n",
    "nota = int(input())\n",
    "ERRONEA_transformarNota2Texto(nota)\n",
    "\n"
   ]
  },
  {
   "cell_type": "markdown",
   "metadata": {},
   "source": [
    "Escribe tu explicación a continuación:"
   ]
  },
  {
   "cell_type": "markdown",
   "metadata": {},
   "source": []
  },
  {
   "cell_type": "markdown",
   "metadata": {},
   "source": [
    "Crea una función usando `elif` que transforme le entren los grados centigrados y imprima por pantalla si hace **Mucho calor, calor, buena temperatura, fresquibiris, frio, o frio que pela**, dependiendo de los grados. Decide tu mismo las temperaturas para cada texto."
   ]
  },
  {
   "cell_type": "code",
   "execution_count": 6,
   "metadata": {},
   "outputs": [
    {
     "name": "stdout",
     "output_type": "stream",
     "text": [
      "Cuantos grados hace?-50\n",
      "frio que pela\n"
     ]
    }
   ],
   "source": [
    "def temperatura(grados):\n",
    "    if(grados > 40):\n",
    "        print(\"Mucho calor\")\n",
    "    elif(grados > 30):\n",
    "        print(\"calor\")\n",
    "    elif(grados > 20):\n",
    "        print(\"buena temperatura\")\n",
    "    elif(grados > 15):\n",
    "        print(\"fresquibiris\")\n",
    "    elif(grados > 0):\n",
    "        print(\"frio\")\n",
    "    else:\n",
    "        print(\"frio que pela\")\n",
    "\n",
    "grados= int(input(\"Cuantos grados hace?\"))\n",
    "temperatura(grados)"
   ]
  },
  {
   "cell_type": "markdown",
   "metadata": {},
   "source": [
    "Crea una función que le entren dos parametros. Uno serà una nota numérica ej:5,6,7 y el otro serà una temperatura en grados por ejemplo:15,17,23. Crea una funcion que haga lo siguiente.\n",
    "Si la nota es menor que 5 saque por pantalla el texto _Toca estudiar_. Si la nota es mayor que cinco y la temperatura es mayor que 15 grados saque por pantalla _ir de excursion_. Si la nota es mayor que 5 y la temperatura es menor que 0 grados imprima _quedarse en casa_. En cualquier otro caso que imprima _ir al cine_."
   ]
  },
  {
   "cell_type": "markdown",
   "metadata": {},
   "source": [
    "Este ejercicio se puede implementar de dos formars distintas usando operaciones booleanas (and or not) o anidando condificones `if`. Esto significa poniendo if dentro de otros `if`s. Crea ambas soluciones."
   ]
  },
  {
   "cell_type": "code",
   "execution_count": 9,
   "metadata": {},
   "outputs": [
    {
     "name": "stdout",
     "output_type": "stream",
     "text": [
      "4\n",
      "20\n",
      "toca estudiar\n"
     ]
    }
   ],
   "source": [
    "def queHacer(nota, grados):\n",
    "    if nota < 5:\n",
    "        print(\"toca estudiar\")\n",
    "    else:\n",
    "        if grados > 15:\n",
    "            print(\"ir de excursion\")\n",
    "        elif grados < 0:\n",
    "            print(\"quedarse en casa\")\n",
    "        else:\n",
    "            print(\"ir al cine\")\n",
    "miNota= int(input())  \n",
    "grados = int(input())  \n",
    "queHacer(grados=grados, nota=miNota)"
   ]
  },
  {
   "cell_type": "markdown",
   "metadata": {},
   "source": [
    "## Control de flujo II"
   ]
  },
  {
   "cell_type": "markdown",
   "metadata": {},
   "source": [
    "### Bucles"
   ]
  },
  {
   "cell_type": "markdown",
   "metadata": {},
   "source": [
    "Es muy en programación querer realizar una misma operación varias veces. Para ello se usan lo que se denominan bucles. Un bucle es una sección de código que se repetirá hasta alcanzar la condición definida. Para ello podemos hacer use de las intrucciones. `while` y  `for`. Ambas instucciones sirven para lo mismo, pero simplemente se expresan de forma distinta. Para elegir cual usar en cada ocasión simplemente usaremos la que nos resulte más natural para el problema.\n"
   ]
  },
  {
   "cell_type": "markdown",
   "metadata": {},
   "source": [
    "_Ejemplo while_\n",
    "\n",
    "Sacamos por pantalla el valor de i mientras i sea mas pequeña que 6"
   ]
  },
  {
   "cell_type": "code",
   "execution_count": 10,
   "metadata": {},
   "outputs": [
    {
     "name": "stdout",
     "output_type": "stream",
     "text": [
      "1\n",
      "2\n",
      "3\n",
      "4\n",
      "5\n"
     ]
    }
   ],
   "source": [
    "i = 1\n",
    "while i < 6:\n",
    "    print(i)\n",
    "    i += 1"
   ]
  },
  {
   "cell_type": "markdown",
   "metadata": {},
   "source": [
    "En este caso usamos la instrucción `range`, rango en español, donde definimos desde y hasta donde queremos que se ejecute el bucle. En este caso la instrucción `for` se encarga de definir la variable __i__ y la instrucción `range` se encarga de incrementar en cada iteración del bucle la variable __i__."
   ]
  },
  {
   "cell_type": "code",
   "execution_count": 12,
   "metadata": {},
   "outputs": [
    {
     "name": "stdout",
     "output_type": "stream",
     "text": [
      "10\n",
      "11\n",
      "12\n",
      "13\n",
      "14\n"
     ]
    }
   ],
   "source": [
    "for i in range(10,15):\n",
    "    print(i)"
   ]
  },
  {
   "cell_type": "markdown",
   "metadata": {},
   "source": [
    "### Tu turno"
   ]
  },
  {
   "cell_type": "markdown",
   "metadata": {},
   "source": [
    "Crea una función que sume todos los números del 1 al 100. Y  muestre por pantalla la suma."
   ]
  },
  {
   "cell_type": "code",
   "execution_count": 18,
   "metadata": {},
   "outputs": [
    {
     "name": "stdout",
     "output_type": "stream",
     "text": [
      "5050\n"
     ]
    }
   ],
   "source": [
    "def sumaSucesion(n):\n",
    "    suma = 0\n",
    "    for i in range(0,n+1):\n",
    "        suma = suma + i\n",
    "    return suma\n",
    "print(sumaSucesion(100))"
   ]
  },
  {
   "cell_type": "markdown",
   "metadata": {},
   "source": [
    "Crea una función que muestre por pantalla todos los números múltiples de 5 entre los números 0 y 100."
   ]
  },
  {
   "cell_type": "code",
   "execution_count": 23,
   "metadata": {},
   "outputs": [
    {
     "name": "stdout",
     "output_type": "stream",
     "text": [
      "5\n",
      "10\n",
      "15\n",
      "20\n",
      "25\n",
      "30\n",
      "35\n",
      "40\n",
      "45\n",
      "50\n",
      "55\n",
      "60\n",
      "65\n",
      "70\n",
      "75\n",
      "80\n",
      "85\n",
      "90\n",
      "95\n",
      "100\n"
     ]
    }
   ],
   "source": [
    "def multiples5(n):\n",
    "    for i in range(1,n+1):\n",
    "        if(i%5==0):\n",
    "            print(i)\n",
    "multiples5(100)"
   ]
  },
  {
   "cell_type": "markdown",
   "metadata": {},
   "source": [
    "Crea una función que pida números mientras el usuario escriba número mayores que el primero."
   ]
  },
  {
   "cell_type": "code",
   "execution_count": 2,
   "metadata": {},
   "outputs": [
    {
     "name": "stdout",
     "output_type": "stream",
     "text": [
      "introduce un numero: 2\n",
      "introduce un numero: 3\n",
      "introduce un numero: 4\n",
      "introduce un numero: 5\n",
      "introduce un numero: 4\n",
      "introduce un numero: 1\n",
      "FIN\n"
     ]
    }
   ],
   "source": [
    "def numMayor():\n",
    "    texto = \"introduce un numero: \"\n",
    "    primero = int(input(texto))\n",
    "    actual  = int(input(texto))\n",
    "    while(actual > primero):\n",
    "        actual  = int(input(texto))\n",
    "    print(\"FIN\")\n",
    "\n",
    "numMayor()"
   ]
  },
  {
   "cell_type": "markdown",
   "metadata": {},
   "source": [
    "Crea una función que pida números mientras el usuario escriba número mayores que el anterior."
   ]
  },
  {
   "cell_type": "code",
   "execution_count": 30,
   "metadata": {},
   "outputs": [
    {
     "name": "stdout",
     "output_type": "stream",
     "text": [
      "introduce un numero: 5\n",
      "introduce un numero: 6\n",
      "introduce un numero: 5\n",
      "FIN\n"
     ]
    }
   ],
   "source": [
    "def numMayorAnterior():\n",
    "    texto    = \"introduce un numero: \"\n",
    "    anterior = int(input(texto))\n",
    "    actual   = int(input(texto))\n",
    "    while(actual > anterior):\n",
    "        #print(\"anterior vale {}\".format(anterior))\n",
    "        #print(\"actual vale {}\".format(actual))\n",
    "        anterior = actual\n",
    "        actual   = int(input(texto))\n",
    "    print(\"FIN\")\n",
    "\n",
    "numMayorAnterior()"
   ]
  },
  {
   "cell_type": "markdown",
   "metadata": {},
   "source": [
    "Crea una función que pida números mientras no se escriba un número negativo. El programa terminará escribiendo la suma de los números introducidos."
   ]
  },
  {
   "cell_type": "code",
   "execution_count": 9,
   "metadata": {},
   "outputs": [
    {
     "name": "stdout",
     "output_type": "stream",
     "text": [
      "introduce un numero: 5\n",
      "introduce un numero: 6\n",
      "introduce un numero: -8\n",
      "FIN\n",
      "La suma de los numeros introuducidos es 11\n"
     ]
    }
   ],
   "source": [
    "def numHastaNegativo():\n",
    "    texto  = \"introduce un numero: \"\n",
    "    actual = int(input(texto))\n",
    "    suma   = 0\n",
    "    while(actual >= 0):\n",
    "        suma = suma + actual\n",
    "        actual = int(input(texto))\n",
    "\n",
    "    print(\"FIN\")\n",
    "    print(\"La suma de los numeros introuducidos es {}\".format(suma))\n",
    "numHastaNegativo()"
   ]
  },
  {
   "cell_type": "markdown",
   "metadata": {},
   "source": [
    "Crea una función que pida números mientras no se escriba un número negativo. La función al acabar tiene que devolver la cantidad de numeros multiples de 3 que han sido introducidos."
   ]
  },
  {
   "cell_type": "code",
   "execution_count": 32,
   "metadata": {},
   "outputs": [
    {
     "name": "stdout",
     "output_type": "stream",
     "text": [
      "introduce un numero: 2\n",
      "introduce un numero: 3\n",
      "introduce un numero: 4\n",
      "introduce un numero: 5\n",
      "introduce un numero: -1\n",
      "FIN\n",
      "Has introuducido 1 multiplos de 3\n"
     ]
    }
   ],
   "source": [
    "def multiples3():\n",
    "    texto    = \"introduce un numero: \"\n",
    "    actual   = int(input(texto))\n",
    "    contadorMultiplesDe3 = 0\n",
    "    while(actual >= 0):\n",
    "        if(actual%3==0):\n",
    "            contadorMultiplesDe3 = contadorMultiplesDe3 + 1\n",
    "        actual   = int(input(texto))\n",
    "    print(\"FIN\")\n",
    "    print(\"Has introuducido {} multiplos de 3\".format(contadorMultiplesDe3))\n",
    "multiples3()"
   ]
  },
  {
   "cell_type": "markdown",
   "metadata": {},
   "source": [
    "Crea una función que entrado un número diga si este número es [primo](https://es.wikipedia.org/wiki/N%C3%BAmero_primo)"
   ]
  },
  {
   "cell_type": "code",
   "execution_count": 12,
   "metadata": {},
   "outputs": [
    {
     "name": "stdout",
     "output_type": "stream",
     "text": [
      "introduce un numero: 113\n",
      "True\n"
     ]
    }
   ],
   "source": [
    "def esPrimo(n):\n",
    "    for i in range(2,n):\n",
    "        if(n%i==0):\n",
    "            return False\n",
    "    return True\n",
    "\n",
    "numero = int(input(\"introduce un numero: \"))\n",
    "print(esPrimo(numero))"
   ]
  },
  {
   "cell_type": "markdown",
   "metadata": {},
   "source": [
    "Crea una función que entrando un número imprima todos sus divisores (número por los que puede ser divido)"
   ]
  },
  {
   "cell_type": "markdown",
   "metadata": {},
   "source": [
    "Crea una función que dado un texto y una letra, diga en que posición se encuentra la primera aparición de esta letra"
   ]
  },
  {
   "cell_type": "code",
   "execution_count": 22,
   "metadata": {},
   "outputs": [
    {
     "name": "stdout",
     "output_type": "stream",
     "text": [
      "6\n"
     ]
    }
   ],
   "source": [
    "#Devuelve -1 en caso de que no exista\n",
    "def primeraLetra(texto, letra):\n",
    "    indice = 0\n",
    "    for l in texto:\n",
    "        if l == letra:\n",
    "            return indice\n",
    "        indice = indice + 1\n",
    "    return -1\n",
    "\n",
    "texto = \"supercalifragilisticoespialidoso\"\n",
    "letra = \"a\"\n",
    "print(primeraLetra(texto,letra))"
   ]
  },
  {
   "cell_type": "markdown",
   "metadata": {},
   "source": [
    "Crea una función que cuente el número de apariciones de una letra en un texto"
   ]
  },
  {
   "cell_type": "code",
   "execution_count": 23,
   "metadata": {},
   "outputs": [
    {
     "name": "stdout",
     "output_type": "stream",
     "text": [
      "3\n"
     ]
    }
   ],
   "source": [
    "def contarLetra(texto, letra):\n",
    "    contador = 0\n",
    "    for l in texto:\n",
    "        if l == letra:\n",
    "            contador = contador + 1\n",
    "    return contador\n",
    "\n",
    "texto = \"supercalifragilisticoespialidoso\"\n",
    "letra = \"a\"\n",
    "print(contarLetra(texto,letra))"
   ]
  },
  {
   "cell_type": "markdown",
   "metadata": {},
   "source": [
    "Crea una función que imprima tantos numero de la sequencia de [fibonacci](https://es.wikipedia.org/wiki/Sucesi%C3%B3n_de_Fibonacci) como desees."
   ]
  },
  {
   "cell_type": "code",
   "execution_count": 25,
   "metadata": {},
   "outputs": [
    {
     "name": "stdout",
     "output_type": "stream",
     "text": [
      "1\n",
      "2\n",
      "3\n",
      "5\n",
      "8\n",
      "13\n",
      "21\n",
      "34\n",
      "55\n",
      "89\n",
      "144\n"
     ]
    }
   ],
   "source": [
    "def fibonacci(n):\n",
    "    anterior = 1\n",
    "    actual = 1\n",
    "    for i in range(0,n):\n",
    "        print(actual)\n",
    "        aux = actual\n",
    "        actual = anterior + actual\n",
    "        anterior = aux\n",
    "fibonacci(11)\n",
    "        "
   ]
  },
  {
   "cell_type": "code",
   "execution_count": null,
   "metadata": {},
   "outputs": [],
   "source": []
  }
 ],
 "metadata": {
  "kernelspec": {
   "display_name": "Python 3",
   "language": "python",
   "name": "python3"
  },
  "language_info": {
   "codemirror_mode": {
    "name": "ipython",
    "version": 3
   },
   "file_extension": ".py",
   "mimetype": "text/x-python",
   "name": "python",
   "nbconvert_exporter": "python",
   "pygments_lexer": "ipython3",
   "version": "3.7.4"
  }
 },
 "nbformat": 4,
 "nbformat_minor": 2
}
