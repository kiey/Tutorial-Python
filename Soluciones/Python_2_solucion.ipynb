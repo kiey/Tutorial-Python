{
 "cells": [
  {
   "cell_type": "markdown",
   "metadata": {},
   "source": [
    "# Estructuras de datos"
   ]
  },
  {
   "cell_type": "markdown",
   "metadata": {},
   "source": [
    "En programación es habitual querer agrupar variables. Para ello existen diferentes estructuras ya definidas por python que nos ayudaran a agruparlas."
   ]
  },
  {
   "cell_type": "markdown",
   "metadata": {},
   "source": [
    "## Listas"
   ]
  },
  {
   "cell_type": "markdown",
   "metadata": {},
   "source": [
    "Una lista en python es simplemente una lista de cosas, ya sean números, letras, textos, booleanos... En python definir, crear, una lista usaremos los simbolos `[]`, dentro separaremos con comas `,` los elementos que la conforman. Por ejemplo podemos definir una lista de numeros primos del 1 al 100 de esta forma."
   ]
  },
  {
   "cell_type": "code",
   "execution_count": 1,
   "metadata": {},
   "outputs": [
    {
     "name": "stdout",
     "output_type": "stream",
     "text": [
      "[2, 3, 5, 7, 11, 13, 17, 19, 23, 29, 31, 37, 41, 43, 47, 53, 59, 61, 67, 71, 73, 79, 83, 89, 97]\n"
     ]
    }
   ],
   "source": [
    "primos = [2, 3, 5, 7, 11, 13, 17, 19, 23, 29, 31, 37, 41, 43, 47, 53, 59, 61, 67, 71, 73, 79, 83, 89, 97]\n",
    "print(primos)"
   ]
  },
  {
   "cell_type": "markdown",
   "metadata": {},
   "source": [
    "Por ejemplo también podríamos hacerlo con texto"
   ]
  },
  {
   "cell_type": "code",
   "execution_count": 2,
   "metadata": {},
   "outputs": [
    {
     "name": "stdout",
     "output_type": "stream",
     "text": [
      "['avellanas', 'nueces', 'anacardos', 'almendras']\n"
     ]
    }
   ],
   "source": [
    "frutosSecos = [\"avellanas\", \"nueces\", \"anacardos\", \"almendras\"]\n",
    "print(frutosSecos)"
   ]
  },
  {
   "cell_type": "markdown",
   "metadata": {},
   "source": [
    "Para acceder a un elemento de una lista introduciremos su posición. Por ejemplo `primos[5]` nos devolvera el sexto primo. De la misma manera que `frutosSecos[3]` nos devolvera el cuarto primo. __Atencion__ en python, como en muchos lenguajes de programación, __el primer elemento de una lista es el 0 no el 1__. Por lo que si queremos acceder a _avellanas_ deberemos escribir `frutosSecos[0]`"
   ]
  },
  {
   "cell_type": "code",
   "execution_count": 3,
   "metadata": {},
   "outputs": [
    {
     "name": "stdout",
     "output_type": "stream",
     "text": [
      "13\n",
      "almendras\n",
      "avellanas\n"
     ]
    }
   ],
   "source": [
    "print(primos[5])\n",
    "print(frutosSecos[3])\n",
    "print(frutosSecos[0])"
   ]
  },
  {
   "cell_type": "markdown",
   "metadata": {},
   "source": [
    "Podemos iterar, recorrer, pasar por todos los elementos, de una lista haciendo uso de los bucles. Una forma fácil en python es usar la instrucción `for`. "
   ]
  },
  {
   "cell_type": "code",
   "execution_count": 4,
   "metadata": {},
   "outputs": [
    {
     "name": "stdout",
     "output_type": "stream",
     "text": [
      "avellanas\n",
      "nueces\n",
      "anacardos\n",
      "almendras\n"
     ]
    }
   ],
   "source": [
    "#La siguiente línea la leeremos como, por cada fruto seco dentro de la lista frutos secos haz lo siguiente.\n",
    "for frutoSeco in frutosSecos:\n",
    "    print(frutoSeco)"
   ]
  },
  {
   "cell_type": "markdown",
   "metadata": {},
   "source": [
    "### Tu turno"
   ]
  },
  {
   "cell_type": "markdown",
   "metadata": {},
   "source": [
    "Haz una función que sume todos los elementos de la lista primos."
   ]
  },
  {
   "cell_type": "code",
   "execution_count": 10,
   "metadata": {},
   "outputs": [
    {
     "name": "stdout",
     "output_type": "stream",
     "text": [
      "1060\n"
     ]
    }
   ],
   "source": [
    "def sumarPrimos(primos):\n",
    "    acumulador = 0\n",
    "    for elemento in primos:\n",
    "        acumulador = acumulador + elemento\n",
    "    return acumulador\n",
    "\n",
    "suma = sumarPrimos(primos)\n",
    "print(suma)"
   ]
  },
  {
   "cell_type": "markdown",
   "metadata": {},
   "source": [
    "Haz una función que recorra los elementos de la lista frutos secos y que imprima todos los frutos secos que cotengan la letra _e_."
   ]
  },
  {
   "cell_type": "code",
   "execution_count": 20,
   "metadata": {},
   "outputs": [
    {
     "name": "stdout",
     "output_type": "stream",
     "text": [
      "avellanas\n",
      "nueces\n",
      "almendras\n"
     ]
    }
   ],
   "source": [
    "def imprimirfrutosConLetra(frutosSecos, letraABuscar):\n",
    "    for elemento in frutosSecos:\n",
    "        elementoYaImpreso = False\n",
    "        for letra in elemento:\n",
    "            if letra==letraABuscar and not elementoYaImpreso:\n",
    "                print(elemento)\n",
    "                elementoYaImpreso = True\n",
    "                \n",
    "imprimirfrutosConLetra(frutosSecos, \"e\")    "
   ]
  },
  {
   "cell_type": "markdown",
   "metadata": {},
   "source": [
    "## Modificar una lista"
   ]
  },
  {
   "cell_type": "markdown",
   "metadata": {},
   "source": [
    "Si queremos modificar un valor de una lista lo que haremos es `lista[indice] = nuevoValor`. Por ejemplo para cambien el primer fruto seco por _pistachos_ haremos lo siguiente."
   ]
  },
  {
   "cell_type": "code",
   "execution_count": 21,
   "metadata": {},
   "outputs": [
    {
     "name": "stdout",
     "output_type": "stream",
     "text": [
      "avellanas\n"
     ]
    }
   ],
   "source": [
    "print(frutosSecos[0])"
   ]
  },
  {
   "cell_type": "code",
   "execution_count": 22,
   "metadata": {},
   "outputs": [
    {
     "name": "stdout",
     "output_type": "stream",
     "text": [
      "['pistachos', 'nueces', 'anacardos', 'almendras']\n"
     ]
    }
   ],
   "source": [
    "frutosSecos[0]=\"pistachos\"\n",
    "print(frutosSecos)"
   ]
  },
  {
   "cell_type": "markdown",
   "metadata": {},
   "source": [
    "Tambien podemos añadir y borrar elementos de una lista. Para añadir usaremos la función `myLista.append(nuevoElemento)`, esto añadira al final de la lista el elemento agregado. Para borrar un elemento usaremos la función `pop` y la función `remove`. La función pop borra un elemento dado el índice, la posición, donde se encuentra `myLista.pop(indice)`. Por otro lado remove, borra el elemento que le digamos `myLista.remove(elemento)`."
   ]
  },
  {
   "cell_type": "code",
   "execution_count": 23,
   "metadata": {},
   "outputs": [
    {
     "name": "stdout",
     "output_type": "stream",
     "text": [
      "[2, 3, 5, 7, 11, 13, 17, 19, 23, 29, 31, 37, 41, 43, 47, 53, 59, 61, 67, 71, 73, 79, 83, 89, 97]\n",
      "[2, 5, 7, 11, 13, 17, 19, 23, 29, 31, 37, 41, 43, 47, 53, 59, 61, 67, 71, 73, 79, 83, 89, 97]\n"
     ]
    }
   ],
   "source": [
    "primos = [2, 3, 5, 7, 11, 13, 17, 19, 23, 29, 31, 37, 41, 43, 47, 53, 59, 61, 67, 71, 73, 79, 83, 89, 97]\n",
    "print(primos)\n",
    "primos.pop(1)\n",
    "print(primos)"
   ]
  },
  {
   "cell_type": "markdown",
   "metadata": {},
   "source": [
    "Fijaos que se ha borrado el número que 3, que estaba en la posición 1. _Recordad_ que la primera posición es la 0."
   ]
  },
  {
   "cell_type": "code",
   "execution_count": 26,
   "metadata": {},
   "outputs": [
    {
     "name": "stdout",
     "output_type": "stream",
     "text": [
      "[2, 3, 5, 7, 11, 13, 17, 19, 23, 29, 31, 37, 41, 43, 47, 53, 59, 61, 67, 71, 73, 79, 83, 89, 97]\n",
      "[2, 3, 7, 11, 13, 17, 19, 23, 29, 31, 37, 41, 43, 47, 53, 59, 61, 67, 71, 73, 79, 83, 89, 97]\n"
     ]
    }
   ],
   "source": [
    "primos = [2, 3, 5, 7, 11, 13, 17, 19, 23, 29, 31, 37, 41, 43, 47, 53, 59, 61, 67, 71, 73, 79, 83, 89, 97]\n",
    "print(primos)\n",
    "primos.remove(5)\n",
    "print(primos)"
   ]
  },
  {
   "cell_type": "markdown",
   "metadata": {},
   "source": [
    "En este caso hemos borrado el numero 5"
   ]
  },
  {
   "cell_type": "code",
   "execution_count": 24,
   "metadata": {},
   "outputs": [
    {
     "name": "stdout",
     "output_type": "stream",
     "text": [
      "['avellanas', 'nueces', 'anacardos', 'almendras']\n",
      "['avellanas', 'nueces', 'anacardos', 'almendras', 'macadamias']\n"
     ]
    }
   ],
   "source": [
    "frutosSecos = [\"avellanas\", \"nueces\", \"anacardos\", \"almendras\"]\n",
    "print(frutosSecos)\n",
    "frutosSecos.append(\"macadamias\")\n",
    "print(frutosSecos)"
   ]
  },
  {
   "cell_type": "markdown",
   "metadata": {},
   "source": [
    "Hemos añadido macadamias al final de la lista de frutos secos"
   ]
  },
  {
   "cell_type": "markdown",
   "metadata": {},
   "source": [
    "### Tu turno"
   ]
  },
  {
   "cell_type": "code",
   "execution_count": 25,
   "metadata": {},
   "outputs": [],
   "source": [
    "numeros = [5, 85, 25, 44, 101, 54, 3, 16, 99]"
   ]
  },
  {
   "cell_type": "markdown",
   "metadata": {},
   "source": [
    "Imprime la media de la suma de todos los elementos de la lista `numero`"
   ]
  },
  {
   "cell_type": "markdown",
   "metadata": {},
   "source": [
    "__nota__: Para conseguir el numero de elementos, el tamaño, de una lista podemos usar la funcion `len(miLista)`"
   ]
  },
  {
   "cell_type": "code",
   "execution_count": 29,
   "metadata": {},
   "outputs": [
    {
     "name": "stdout",
     "output_type": "stream",
     "text": [
      "48.0\n"
     ]
    }
   ],
   "source": [
    "def media(numeros):\n",
    "    suma = 0\n",
    "    for num in numeros:\n",
    "        suma = suma + num\n",
    "    resultado = suma / len(numeros)\n",
    "    return resultado\n",
    "\n",
    "print(media(numeros))"
   ]
  },
  {
   "cell_type": "markdown",
   "metadata": {},
   "source": [
    "Crea una función que _retorne_ el numero maximo de una lista, pruebala con la lista numeros"
   ]
  },
  {
   "cell_type": "code",
   "execution_count": 33,
   "metadata": {},
   "outputs": [
    {
     "name": "stdout",
     "output_type": "stream",
     "text": [
      "-3\n"
     ]
    }
   ],
   "source": [
    "numeros = [-5, -85, -25, -44, -101, -54, -3, -16, -99]\n",
    "\n",
    "def buscarMaximo(numeros):\n",
    "    maximo = numeros[0]\n",
    "    for numero in numeros:\n",
    "        if(numero > maximo):\n",
    "            maximo = numero\n",
    "    return maximo\n",
    "\n",
    "print(buscarMaximo(numeros))"
   ]
  },
  {
   "cell_type": "markdown",
   "metadata": {},
   "source": [
    "Dada la lista de numeros `numeros`, crea una nueva lista vacia y añade los números pares de la lista `numeros`."
   ]
  },
  {
   "cell_type": "code",
   "execution_count": 38,
   "metadata": {},
   "outputs": [
    {
     "name": "stdout",
     "output_type": "stream",
     "text": [
      "[44, 54, 16]\n"
     ]
    }
   ],
   "source": [
    "numeros = [5, 85, 25, 44, 101, 54, 3, 16, 99]\n",
    "def cogerPares(numeros):\n",
    "    listaPares = []\n",
    "    for num in numeros:\n",
    "        if(num%2==0):\n",
    "            listaPares.append(num)\n",
    "    return listaPares\n",
    "print(cogerPares(numeros))\n"
   ]
  },
  {
   "cell_type": "markdown",
   "metadata": {},
   "source": [
    "Crea una función que diga cuales de los elementos de una lista son primos. Para ello usa a la función `esPrimo`, que creaste en el anterior notebook (debereas copiarla, o rehacerla)."
   ]
  },
  {
   "cell_type": "code",
   "execution_count": 46,
   "metadata": {},
   "outputs": [
    {
     "name": "stdout",
     "output_type": "stream",
     "text": [
      "[5, 101, 3]\n"
     ]
    }
   ],
   "source": [
    "def esPrimo(n):\n",
    "    for i in range(2,n):\n",
    "        if(n%i==0):\n",
    "            return False\n",
    "    return True\n",
    "\n",
    "def esPrimoLista(lista):\n",
    "    primos = []\n",
    "    for elemento in lista:\n",
    "        if (esPrimo(elemento)):\n",
    "            primos.append(elemento)\n",
    "    return(primos)\n",
    "\n",
    "primos = esPrimoLista(numeros)\n",
    "print(primos)"
   ]
  },
  {
   "cell_type": "markdown",
   "metadata": {},
   "source": [
    "Crea una función que dada una lista de textos y un número, imprima las palabras con un número de letras mayor o igual al número. Usa la lista `hobbit` para testearla."
   ]
  },
  {
   "cell_type": "code",
   "execution_count": 56,
   "metadata": {},
   "outputs": [
    {
     "name": "stdout",
     "output_type": "stream",
     "text": [
      "['En', 'un', 'agujero', 'en', 'el', 'suelo', 'vivía', 'un', 'hobbit.', 'No', 'un', 'agujero', 'húmedo', 'sucio', 'repugnante', 'con', 'restos', 'de', 'gusanos', 'y', 'olor', 'a', 'fango', 'ni', 'tampoco', 'un', 'agujero', 'seco', 'desnudo', 'y', 'arenoso', 'sin', 'nada', 'en', 'que', 'sentarse', 'o', 'que', 'comer:', 'era', 'un', 'agujero-hobbit', 'y', 'eso', 'significa', 'comodidad']\n"
     ]
    }
   ],
   "source": [
    "texto = \"En un agujero en el suelo, vivía un hobbit. No un agujero húmedo, sucio, repugnante,\\\n",
    "con restos de gusanos y olor a fango, ni tampoco un agujero, seco, desnudo y arenoso, \\\n",
    "sin nada en que sentarse o que comer: era un agujero-hobbit, y eso significa comodidad\"\n",
    "hobbit = texto.replace(',',' ').split()\n",
    "print(hobbit)"
   ]
  },
  {
   "cell_type": "markdown",
   "metadata": {},
   "source": [
    "Crea una función que dada una lista de palabras devuelva una lista con las palabras que contengan la letra _e_"
   ]
  },
  {
   "cell_type": "code",
   "execution_count": 64,
   "metadata": {},
   "outputs": [
    {
     "name": "stdout",
     "output_type": "stream",
     "text": [
      "['agujero', 'en', 'el', 'suelo', 'agujero', 'húmedo', 'repugnante', 'restos', 'de', 'agujero', 'seco', 'desnudo', 'arenoso', 'en', 'que', 'sentarse', 'que', 'comer:', 'era', 'agujero-hobbit', 'eso']\n"
     ]
    }
   ],
   "source": [
    "def palabrasQueContienenLetra(lista, letra):\n",
    "    palabrasConLetra = []\n",
    "    for palabra in lista:\n",
    "        palabraAnadida = False\n",
    "        for letraActual in palabra:\n",
    "            if (letra==letraActual) and (not palabraAnadida):\n",
    "                palabrasConLetra.append(palabra)\n",
    "                palabraAnadida = True\n",
    "    return palabrasConLetra\n",
    "\n",
    "listaPalabras = palabrasQueContienenLetra(hobbit, 'e')\n",
    "print(listaPalabras)"
   ]
  },
  {
   "cell_type": "markdown",
   "metadata": {},
   "source": [
    "Crea una función que dada una lista de números, por ejemplo \"numeros\", te devuelva la lista ordenada"
   ]
  },
  {
   "cell_type": "code",
   "execution_count": 73,
   "metadata": {},
   "outputs": [
    {
     "name": "stdout",
     "output_type": "stream",
     "text": [
      "[3, 5, 16, 25, 44, 54, 85, 99, 101]\n"
     ]
    }
   ],
   "source": [
    "def buscarMinimo(lista):\n",
    "    minimo = lista[0]\n",
    "    for numero in lista:\n",
    "        if(numero < minimo):\n",
    "            minimo = numero\n",
    "    return minimo\n",
    "\n",
    "def ordenarListaMinimo(lista):\n",
    "    listaOrdenada = []\n",
    "    for i in range(0,len(lista)):\n",
    "        minimo = buscarMinimo(lista)\n",
    "        listaOrdenada.append(minimo)\n",
    "        lista.remove(minimo)\n",
    "    return listaOrdenada\n",
    "\n",
    "numeros = [5, 85, 25, 44, 101, 54, 3, 16, 99]\n",
    "print(ordenarListaMinimo(numeros))\n",
    "        "
   ]
  },
  {
   "cell_type": "code",
   "execution_count": null,
   "metadata": {},
   "outputs": [],
   "source": []
  }
 ],
 "metadata": {
  "kernelspec": {
   "display_name": "Python 3",
   "language": "python",
   "name": "python3"
  },
  "language_info": {
   "codemirror_mode": {
    "name": "ipython",
    "version": 3
   },
   "file_extension": ".py",
   "mimetype": "text/x-python",
   "name": "python",
   "nbconvert_exporter": "python",
   "pygments_lexer": "ipython3",
   "version": "3.7.4"
  }
 },
 "nbformat": 4,
 "nbformat_minor": 2
}
